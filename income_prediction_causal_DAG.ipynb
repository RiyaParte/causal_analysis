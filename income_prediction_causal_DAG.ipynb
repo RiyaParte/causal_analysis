{
 "cells": [
  {
   "cell_type": "code",
   "execution_count": 1,
   "metadata": {},
   "outputs": [],
   "source": [
    "import javabridge\n",
    "import os\n",
    "import glob\n",
    "import pandas as pd\n",
    "import pydot\n",
    "from IPython.display import SVG\n",
    "# import CairoSVG\n",
    "import numpy as np"
   ]
  },
  {
   "cell_type": "code",
   "execution_count": 2,
   "metadata": {},
   "outputs": [
    {
     "name": "stdout",
     "output_type": "stream",
     "text": [
      "/home/jovyan/py-causal/example/javabridge/../../src/pycausal/lib/causal-cmd-1.2.0-SNAPSHOT-jar-with-dependencies.jar\n"
     ]
    }
   ],
   "source": [
    "tetrad_libdir = os.path.join(os.getcwd(), '../../','src', 'pycausal', 'lib')\n",
    "for l in glob.glob(tetrad_libdir + os.sep + \"causal-cmd-1.2.0-SNAPSHOT-jar-with-dependencies.jar\"):\n",
    "    print (l)\n",
    "    javabridge.JARS.append(str(l))"
   ]
  },
  {
   "cell_type": "code",
   "execution_count": 3,
   "metadata": {},
   "outputs": [
    {
     "data": {
      "text/plain": [
       "<JB_Env at 0x563dbd7849e0>"
      ]
     },
     "execution_count": 3,
     "metadata": {},
     "output_type": "execute_result"
    }
   ],
   "source": [
    "javabridge.start_vm(run_headless=True, max_heap_size = '200000M')\n",
    "javabridge.attach()"
   ]
  },
  {
   "cell_type": "code",
   "execution_count": 4,
   "metadata": {
    "scrolled": true
   },
   "outputs": [
    {
     "name": "stdout",
     "output_type": "stream",
     "text": [
      "(43957, 15)\n"
     ]
    },
    {
     "data": {
      "text/html": [
       "<div>\n",
       "<style scoped>\n",
       "    .dataframe tbody tr th:only-of-type {\n",
       "        vertical-align: middle;\n",
       "    }\n",
       "\n",
       "    .dataframe tbody tr th {\n",
       "        vertical-align: top;\n",
       "    }\n",
       "\n",
       "    .dataframe thead th {\n",
       "        text-align: right;\n",
       "    }\n",
       "</style>\n",
       "<table border=\"1\" class=\"dataframe\">\n",
       "  <thead>\n",
       "    <tr style=\"text-align: right;\">\n",
       "      <th></th>\n",
       "      <th>age</th>\n",
       "      <th>workclass</th>\n",
       "      <th>fnlwgt</th>\n",
       "      <th>education</th>\n",
       "      <th>educational-num</th>\n",
       "      <th>marital-status</th>\n",
       "      <th>occupation</th>\n",
       "      <th>relationship</th>\n",
       "      <th>race</th>\n",
       "      <th>gender</th>\n",
       "      <th>capital-gain</th>\n",
       "      <th>capital-loss</th>\n",
       "      <th>hours-per-week</th>\n",
       "      <th>native-country</th>\n",
       "      <th>income_&gt;50K</th>\n",
       "    </tr>\n",
       "  </thead>\n",
       "  <tbody>\n",
       "    <tr>\n",
       "      <th>0</th>\n",
       "      <td>67</td>\n",
       "      <td>Private</td>\n",
       "      <td>366425</td>\n",
       "      <td>Doctorate</td>\n",
       "      <td>16</td>\n",
       "      <td>Divorced</td>\n",
       "      <td>Exec-managerial</td>\n",
       "      <td>Not-in-family</td>\n",
       "      <td>White</td>\n",
       "      <td>Male</td>\n",
       "      <td>99999</td>\n",
       "      <td>0</td>\n",
       "      <td>60</td>\n",
       "      <td>United-States</td>\n",
       "      <td>1</td>\n",
       "    </tr>\n",
       "    <tr>\n",
       "      <th>1</th>\n",
       "      <td>17</td>\n",
       "      <td>Private</td>\n",
       "      <td>244602</td>\n",
       "      <td>12th</td>\n",
       "      <td>8</td>\n",
       "      <td>Never-married</td>\n",
       "      <td>Other-service</td>\n",
       "      <td>Own-child</td>\n",
       "      <td>White</td>\n",
       "      <td>Male</td>\n",
       "      <td>0</td>\n",
       "      <td>0</td>\n",
       "      <td>15</td>\n",
       "      <td>United-States</td>\n",
       "      <td>0</td>\n",
       "    </tr>\n",
       "    <tr>\n",
       "      <th>2</th>\n",
       "      <td>31</td>\n",
       "      <td>Private</td>\n",
       "      <td>174201</td>\n",
       "      <td>Bachelors</td>\n",
       "      <td>13</td>\n",
       "      <td>Married-civ-spouse</td>\n",
       "      <td>Exec-managerial</td>\n",
       "      <td>Husband</td>\n",
       "      <td>White</td>\n",
       "      <td>Male</td>\n",
       "      <td>0</td>\n",
       "      <td>0</td>\n",
       "      <td>40</td>\n",
       "      <td>United-States</td>\n",
       "      <td>1</td>\n",
       "    </tr>\n",
       "    <tr>\n",
       "      <th>3</th>\n",
       "      <td>58</td>\n",
       "      <td>State-gov</td>\n",
       "      <td>110199</td>\n",
       "      <td>7th-8th</td>\n",
       "      <td>4</td>\n",
       "      <td>Married-civ-spouse</td>\n",
       "      <td>Transport-moving</td>\n",
       "      <td>Husband</td>\n",
       "      <td>White</td>\n",
       "      <td>Male</td>\n",
       "      <td>0</td>\n",
       "      <td>0</td>\n",
       "      <td>40</td>\n",
       "      <td>United-States</td>\n",
       "      <td>0</td>\n",
       "    </tr>\n",
       "    <tr>\n",
       "      <th>4</th>\n",
       "      <td>25</td>\n",
       "      <td>State-gov</td>\n",
       "      <td>149248</td>\n",
       "      <td>Some-college</td>\n",
       "      <td>10</td>\n",
       "      <td>Never-married</td>\n",
       "      <td>Other-service</td>\n",
       "      <td>Not-in-family</td>\n",
       "      <td>Black</td>\n",
       "      <td>Male</td>\n",
       "      <td>0</td>\n",
       "      <td>0</td>\n",
       "      <td>40</td>\n",
       "      <td>United-States</td>\n",
       "      <td>0</td>\n",
       "    </tr>\n",
       "  </tbody>\n",
       "</table>\n",
       "</div>"
      ],
      "text/plain": [
       "   age  workclass  fnlwgt     education  educational-num      marital-status  \\\n",
       "0   67    Private  366425     Doctorate               16            Divorced   \n",
       "1   17    Private  244602          12th                8       Never-married   \n",
       "2   31    Private  174201     Bachelors               13  Married-civ-spouse   \n",
       "3   58  State-gov  110199       7th-8th                4  Married-civ-spouse   \n",
       "4   25  State-gov  149248  Some-college               10       Never-married   \n",
       "\n",
       "         occupation   relationship   race gender  capital-gain  capital-loss  \\\n",
       "0   Exec-managerial  Not-in-family  White   Male         99999             0   \n",
       "1     Other-service      Own-child  White   Male             0             0   \n",
       "2   Exec-managerial        Husband  White   Male             0             0   \n",
       "3  Transport-moving        Husband  White   Male             0             0   \n",
       "4     Other-service  Not-in-family  Black   Male             0             0   \n",
       "\n",
       "   hours-per-week native-country  income_>50K  \n",
       "0              60  United-States            1  \n",
       "1              15  United-States            0  \n",
       "2              40  United-States            1  \n",
       "3              40  United-States            0  \n",
       "4              40  United-States            0  "
      ]
     },
     "execution_count": 4,
     "metadata": {},
     "output_type": "execute_result"
    }
   ],
   "source": [
    "df = pd.read_csv(\"../../data/income.csv\")\n",
    "print(df.shape)\n",
    "df.head()"
   ]
  },
  {
   "cell_type": "code",
   "execution_count": 5,
   "metadata": {
    "scrolled": false
   },
   "outputs": [
    {
     "data": {
      "text/plain": [
       "Index(['age', 'workclass', 'fnlwgt', 'education', 'educational-num',\n",
       "       'marital-status', 'occupation', 'relationship', 'race', 'gender',\n",
       "       'capital-gain', 'capital-loss', 'hours-per-week', 'native-country',\n",
       "       'income_>50K'],\n",
       "      dtype='object')"
      ]
     },
     "execution_count": 5,
     "metadata": {},
     "output_type": "execute_result"
    }
   ],
   "source": [
    "df.columns"
   ]
  },
  {
   "cell_type": "markdown",
   "metadata": {},
   "source": [
    "# encode and normalize data"
   ]
  },
  {
   "cell_type": "code",
   "execution_count": 6,
   "metadata": {},
   "outputs": [],
   "source": [
    "df = df[[ \n",
    "#     'fnlwgt',\n",
    "    'age', 'workclass', \n",
    "    'education', \n",
    "#     'educational-num',\n",
    "       'marital-status', 'occupation', 'relationship', 'race', 'gender',\n",
    "       'capital-gain', 'capital-loss', 'hours-per-week', 'native-country',\n",
    "       'income_>50K'\n",
    "]]"
   ]
  },
  {
   "cell_type": "code",
   "execution_count": 7,
   "metadata": {
    "scrolled": true
   },
   "outputs": [
    {
     "name": "stdout",
     "output_type": "stream",
     "text": [
      "<class 'pandas.core.frame.DataFrame'>\n",
      "RangeIndex: 43957 entries, 0 to 43956\n",
      "Data columns (total 13 columns):\n",
      "age               43957 non-null int64\n",
      "workclass         41459 non-null object\n",
      "education         43957 non-null object\n",
      "marital-status    43957 non-null object\n",
      "occupation        41451 non-null object\n",
      "relationship      43957 non-null object\n",
      "race              43957 non-null object\n",
      "gender            43957 non-null object\n",
      "capital-gain      43957 non-null int64\n",
      "capital-loss      43957 non-null int64\n",
      "hours-per-week    43957 non-null int64\n",
      "native-country    43194 non-null object\n",
      "income_>50K       43957 non-null int64\n",
      "dtypes: int64(5), object(8)\n",
      "memory usage: 4.4+ MB\n"
     ]
    }
   ],
   "source": [
    "df.info()"
   ]
  },
  {
   "cell_type": "code",
   "execution_count": 8,
   "metadata": {},
   "outputs": [],
   "source": [
    "cont_var_list = ['age', 'capital-gain', 'capital-loss', 'hours-per-week', \n",
    "#                  'fnlwgt'\n",
    "                ]\n",
    "disc_var_list = ['workclass', \n",
    "                 'education', \n",
    "#                  'educational-num',\n",
    "       'marital-status', 'occupation', \n",
    "                 'relationship', 'race', 'gender','native-country',\n",
    "       'income_>50K']"
   ]
  },
  {
   "cell_type": "code",
   "execution_count": 9,
   "metadata": {
    "scrolled": false
   },
   "outputs": [
    {
     "data": {
      "text/plain": [
       "age                  0\n",
       "workclass         2498\n",
       "education            0\n",
       "marital-status       0\n",
       "occupation        2506\n",
       "relationship         0\n",
       "race                 0\n",
       "gender               0\n",
       "capital-gain         0\n",
       "capital-loss         0\n",
       "hours-per-week       0\n",
       "native-country     763\n",
       "income_>50K          0\n",
       "dtype: int64"
      ]
     },
     "execution_count": 9,
     "metadata": {},
     "output_type": "execute_result"
    }
   ],
   "source": [
    "df.isnull().sum()"
   ]
  },
  {
   "cell_type": "code",
   "execution_count": 10,
   "metadata": {},
   "outputs": [],
   "source": [
    "df = df.dropna()\n",
    "df = df.reset_index(drop=True)\n",
    "df.shape\n",
    "\n",
    "df = df.sample(n=15000)\n",
    "\n",
    "# Reset index\n",
    "df = df.reset_index(drop=True)"
   ]
  },
  {
   "cell_type": "code",
   "execution_count": 11,
   "metadata": {},
   "outputs": [],
   "source": [
    "# level_mapping={'Preschool':0,'1st-4th':1,'5th-6th':2, '7th-8th':3, '9th':4, '10th':5, '11th':6, '12th':7,\n",
    "#               'HS-grad':8, 'Some-college':9, 'Bachelors':10, 'Prof-school':11, 'Assoc-voc':12, \n",
    "#                'Assoc-acdm':13, 'Masters':14, 'Doctorate':15\n",
    "#               }\n",
    "\n",
    "# df['education'] = df['education'].replace(level_mapping)"
   ]
  },
  {
   "cell_type": "code",
   "execution_count": 12,
   "metadata": {},
   "outputs": [
    {
     "data": {
      "text/plain": [
       "(15000, 13)"
      ]
     },
     "execution_count": 12,
     "metadata": {},
     "output_type": "execute_result"
    }
   ],
   "source": [
    "df.shape"
   ]
  },
  {
   "cell_type": "code",
   "execution_count": 13,
   "metadata": {
    "scrolled": true
   },
   "outputs": [],
   "source": [
    "from sklearn.preprocessing import LabelEncoder\n",
    "\n",
    "label_encoder = LabelEncoder()\n",
    "\n",
    "for var in disc_var_list:\n",
    "    df[var] = label_encoder.fit_transform(df[var])"
   ]
  },
  {
   "cell_type": "code",
   "execution_count": 14,
   "metadata": {},
   "outputs": [],
   "source": [
    "from scipy.stats import boxcox\n",
    "import numpy as np\n",
    "\n",
    "for col in cont_var_list:\n",
    "    min_value = df[col].min()\n",
    "    # Add a constant to ensure positivity\n",
    "    data = df[col] - min_value + 1\n",
    "    df[col], _ = boxcox(data)"
   ]
  },
  {
   "cell_type": "code",
   "execution_count": 15,
   "metadata": {},
   "outputs": [],
   "source": [
    "# edu = ['Preschool','1st-4th','5th-6th', '7th-8th', '9th', '10th', '11th', '12th',\n",
    "#               'HS-grad', 'Some-college', 'Bachelors', 'Prof-school', 'Assoc-voc', \n",
    "#                'Assoc-acdm', 'Masters', 'Doctorate']"
   ]
  },
  {
   "cell_type": "code",
   "execution_count": 16,
   "metadata": {},
   "outputs": [],
   "source": [
    "numCategoriesToDiscretize = 4\n",
    "node_list = javabridge.JClassWrapper('java.util.ArrayList')()\n",
    "cont_list = []\n",
    "disc_list = []\n",
    "col_no = 0\n",
    "for col in df.columns:   \n",
    "    if col in cont_var_list:\n",
    "        # Continuous variable\n",
    "        nodi = javabridge.JClassWrapper('edu.cmu.tetrad.data.ContinuousVariable')(col)\n",
    "        node_list.add(nodi)\n",
    "\n",
    "        cont_list.append(col_no)\n",
    "\n",
    "    else:\n",
    "        # Discrete variable\n",
    "        cat_array = sorted(set(df[col]))\n",
    "#         if col=='education':\n",
    "#             cat_array = edu\n",
    "        cat_list = javabridge.JClassWrapper('java.util.ArrayList')()\n",
    "        for cat in cat_array:\n",
    "#             print(cat)\n",
    "            cat = str(cat)\n",
    "            cat_list.add(cat)\n",
    "\n",
    "        nodname = javabridge.JClassWrapper('java.lang.String')(col)\n",
    "#         print(nodname)\n",
    "#         print(cat_list)\n",
    "        nodi = javabridge.JClassWrapper('edu.cmu.tetrad.data.DiscreteVariable')(nodname,cat_list)\n",
    "        node_list.add(nodi)\n",
    "\n",
    "        disc_list.append(col_no)\n",
    "\n",
    "    col_no = col_no + 1"
   ]
  },
  {
   "cell_type": "code",
   "execution_count": 17,
   "metadata": {},
   "outputs": [
    {
     "data": {
      "text/plain": [
       "Instance of java.util.ArrayList: [age, workclass, education, marital-status, occupation, relationship, race, gender, capital-gain, capital-loss, hours-per-week, native-country, income_>50K]"
      ]
     },
     "execution_count": 17,
     "metadata": {},
     "output_type": "execute_result"
    }
   ],
   "source": [
    "node_list"
   ]
  },
  {
   "cell_type": "code",
   "execution_count": 18,
   "metadata": {},
   "outputs": [
    {
     "data": {
      "text/plain": [
       "15000"
      ]
     },
     "execution_count": 18,
     "metadata": {},
     "output_type": "execute_result"
    }
   ],
   "source": [
    "len(df.index)"
   ]
  },
  {
   "cell_type": "code",
   "execution_count": 19,
   "metadata": {},
   "outputs": [],
   "source": [
    "mixedDataBox = javabridge.JClassWrapper('edu.cmu.tetrad.data.MixedDataBox')(node_list, len(df.index))"
   ]
  },
  {
   "cell_type": "code",
   "execution_count": 20,
   "metadata": {
    "scrolled": true
   },
   "outputs": [],
   "source": [
    "for row in df.index:\n",
    "\n",
    "    for col in cont_list:\n",
    "        value = javabridge.JClassWrapper('java.lang.Double')(df.iloc[row,col])\n",
    "#         print(\"value cont list\", value)\n",
    "        mixedDataBox.set(row,col,value)\n",
    "\n",
    "    for col in disc_list:\n",
    "        cat_array = sorted(set(df[df.columns[col]]))\n",
    "        value = javabridge.JClassWrapper('java.lang.Integer')(cat_array.index(df.iloc[row,col]))\n",
    "#         print(\"value disc list\", value)\n",
    "        mixedDataBox.set(row,col,value)"
   ]
  },
  {
   "cell_type": "code",
   "execution_count": 21,
   "metadata": {},
   "outputs": [],
   "source": [
    "tetradData = javabridge.JClassWrapper('edu.cmu.tetrad.data.BoxDataSet')(mixedDataBox, node_list)"
   ]
  },
  {
   "cell_type": "markdown",
   "metadata": {},
   "source": [
    "### independence tests"
   ]
  },
  {
   "cell_type": "code",
   "execution_count": 22,
   "metadata": {},
   "outputs": [],
   "source": [
    "alpha = 0.05\n",
    "discretize = False\n",
    "indTest = javabridge.JClassWrapper('edu.cmu.tetrad.search.IndTestConditionalGaussianLRT')(tetradData, alpha, discretize)"
   ]
  },
  {
   "cell_type": "markdown",
   "metadata": {},
   "source": [
    "### pc algorithm"
   ]
  },
  {
   "cell_type": "code",
   "execution_count": 23,
   "metadata": {},
   "outputs": [],
   "source": [
    "pc = javabridge.JClassWrapper('edu.cmu.tetrad.search.Pc')(indTest)"
   ]
  },
  {
   "cell_type": "code",
   "execution_count": 24,
   "metadata": {},
   "outputs": [],
   "source": [
    "# rfci.setDepth(-1)\n",
    "# rfci.setVerbose(True)"
   ]
  },
  {
   "cell_type": "code",
   "execution_count": 25,
   "metadata": {},
   "outputs": [],
   "source": [
    "# prior = javabridge.JClassWrapper('edu.cmu.tetrad.data.Knowledge2')()\n",
    "# prior.setForbidden('TangibilityCondition', 'Impact') # forbidden directed edges\n",
    "# prior.setRequired('Sympathy','TangibilityCondition') # required directed edges\n",
    "# prior.setTierForbiddenWithin(0, True)\n",
    "# prior.addToTier(0, 'TangibilityCondition')\n",
    "# prior.addToTier(0, 'Imaginability')\n",
    "# prior.addToTier(1, 'Sympathy')\n",
    "# prior.addToTier(1, 'AmountDonated')\n",
    "# prior.addToTier(2, 'Impact')\n",
    "# rfci.setKnowledge(prior)\n",
    "# prior"
   ]
  },
  {
   "cell_type": "code",
   "execution_count": 26,
   "metadata": {},
   "outputs": [
    {
     "data": {
      "text/plain": [
       "Instance of edu.cmu.tetrad.graph.EdgeListGraph: Graph Nodes:\n",
       "age;workclass;education;marital-status;occupation;relationship;race;gender;capital-gain;capital-loss;hours-per-week;native-country;income_>50K\n",
       "\n",
       "Graph Edges:\n",
       "1. age --> capital-gain\n",
       "2. age --> income_>50K\n",
       "3. age --> marital-status\n",
       "4. age --> relationship\n",
       "5. capital-loss --> capital-gain\n",
       "6. capital-loss --> income_>50K\n",
       "7. education --> hours-per-week\n",
       "8. education --> occupation\n",
       "9. gender --> occupation\n",
       "10. gender --> relationship\n",
       "11. income_>50K --> capital-gain\n",
       "12. marital-status --> capital-gain\n",
       "13. race --- native-country\n",
       "14. relationship --> hours-per-week\n",
       "15. relationship --> marital-status\n",
       "16. workclass --> hours-per-week\n",
       "17. workclass --> occupation\n"
      ]
     },
     "execution_count": 26,
     "metadata": {},
     "output_type": "execute_result"
    }
   ],
   "source": [
    "tetradGraph = pc.search()\n",
    "tetradGraph"
   ]
  },
  {
   "cell_type": "code",
   "execution_count": 27,
   "metadata": {},
   "outputs": [
    {
     "data": {
      "text/plain": [
       "'Graph Nodes:\\nage;workclass;education;marital-status;occupation;relationship;race;gender;capital-gain;capital-loss;hours-per-week;native-country;income_>50K\\n\\nGraph Edges:\\n1. age --> capital-gain\\n2. age --> income_>50K\\n3. age --> marital-status\\n4. age --> relationship\\n5. capital-loss --> capital-gain\\n6. capital-loss --> income_>50K\\n7. education --> hours-per-week\\n8. education --> occupation\\n9. gender --> occupation\\n10. gender --> relationship\\n11. income_>50K --> capital-gain\\n12. marital-status --> capital-gain\\n13. race --- native-country\\n14. relationship --> hours-per-week\\n15. relationship --> marital-status\\n16. workclass --> hours-per-week\\n17. workclass --> occupation\\n\\n'"
      ]
     },
     "execution_count": 27,
     "metadata": {},
     "output_type": "execute_result"
    }
   ],
   "source": [
    "tetradGraph.toString()"
   ]
  },
  {
   "cell_type": "code",
   "execution_count": 28,
   "metadata": {},
   "outputs": [
    {
     "data": {
      "text/plain": [
       "Instance of java.util.ArrayList: [age, workclass, education, marital-status, occupation, relationship, race, gender, capital-gain, capital-loss, hours-per-week, native-country, income_>50K]"
      ]
     },
     "execution_count": 28,
     "metadata": {},
     "output_type": "execute_result"
    }
   ],
   "source": [
    "tetradGraph.getNodeNames()"
   ]
  },
  {
   "cell_type": "code",
   "execution_count": 29,
   "metadata": {},
   "outputs": [
    {
     "data": {
      "text/plain": [
       "Instance of java.util.HashSet: [workclass --> hours-per-week, relationship --> marital-status, age --> relationship, gender --> occupation, age --> capital-gain, income_>50K --> capital-gain, workclass --> occupation, capital-loss --> income_>50K, marital-status --> capital-gain, age --> income_>50K, age --> marital-status, race --- native-country, relationship --> hours-per-week, gender --> relationship, education --> occupation, capital-loss --> capital-gain, education --> hours-per-week]"
      ]
     },
     "execution_count": 29,
     "metadata": {},
     "output_type": "execute_result"
    }
   ],
   "source": [
    "tetradGraph.getEdges()"
   ]
  },
  {
   "cell_type": "code",
   "execution_count": 30,
   "metadata": {
    "scrolled": false
   },
   "outputs": [
    {
     "data": {
      "image/svg+xml": [
       "<svg height=\"260pt\" viewBox=\"0.00 0.00 911.84 260.00\" width=\"912pt\" xmlns=\"http://www.w3.org/2000/svg\" xmlns:xlink=\"http://www.w3.org/1999/xlink\">\n",
       "<g class=\"graph\" id=\"graph0\" transform=\"scale(1 1) rotate(0) translate(4 256)\">\n",
       "<title>g</title>\n",
       "<polygon fill=\"white\" points=\"-4,4 -4,-256 907.836,-256 907.836,4 -4,4\" stroke=\"none\"/>\n",
       "<!-- hours&#45;per&#45;week -->\n",
       "<g class=\"node\" id=\"node1\"><title>hours-per-week</title>\n",
       "<ellipse cx=\"83.1926\" cy=\"-90\" fill=\"none\" rx=\"83.3857\" ry=\"18\" stroke=\"black\"/>\n",
       "<text font-family=\"Times,serif\" font-size=\"14.00\" text-anchor=\"middle\" x=\"83.1926\" y=\"-86.3\">hours-per-week</text>\n",
       "</g>\n",
       "<!-- workclass -->\n",
       "<g class=\"node\" id=\"node2\"><title>workclass</title>\n",
       "<ellipse cx=\"158.193\" cy=\"-18\" fill=\"none\" rx=\"57.6901\" ry=\"18\" stroke=\"black\"/>\n",
       "<text font-family=\"Times,serif\" font-size=\"14.00\" text-anchor=\"middle\" x=\"158.193\" y=\"-14.3\">workclass</text>\n",
       "</g>\n",
       "<!-- hours&#45;per&#45;week&#45;&gt;workclass -->\n",
       "<g class=\"edge\" id=\"edge1\"><title>hours-per-week-&gt;workclass</title>\n",
       "<path d=\"M108.4,-65.4735C119.047,-55.5359 131.181,-44.2109 140.805,-35.2285\" fill=\"none\" stroke=\"black\"/>\n",
       "<polygon fill=\"black\" points=\"105.889,-63.0291 100.967,-72.411 110.665,-68.1465 105.889,-63.0291\" stroke=\"black\"/>\n",
       "</g>\n",
       "<!-- relationship -->\n",
       "<g class=\"node\" id=\"node4\"><title>relationship</title>\n",
       "<ellipse cx=\"355.193\" cy=\"-18\" fill=\"none\" rx=\"66.0889\" ry=\"18\" stroke=\"black\"/>\n",
       "<text font-family=\"Times,serif\" font-size=\"14.00\" text-anchor=\"middle\" x=\"355.193\" y=\"-14.3\">relationship</text>\n",
       "</g>\n",
       "<!-- hours&#45;per&#45;week&#45;&gt;relationship -->\n",
       "<g class=\"edge\" id=\"edge13\"><title>hours-per-week-&gt;relationship</title>\n",
       "<path d=\"M144.373,-73.255C194.235,-60.423 263.576,-42.5777 308.908,-30.9114\" fill=\"none\" stroke=\"black\"/>\n",
       "<polygon fill=\"black\" points=\"143.486,-69.8693 134.674,-75.7512 145.23,-76.6484 143.486,-69.8693\" stroke=\"black\"/>\n",
       "</g>\n",
       "<!-- marital&#45;status -->\n",
       "<g class=\"node\" id=\"node3\"><title>marital-status</title>\n",
       "<ellipse cx=\"478.193\" cy=\"-90\" fill=\"none\" rx=\"76.0865\" ry=\"18\" stroke=\"black\"/>\n",
       "<text font-family=\"Times,serif\" font-size=\"14.00\" text-anchor=\"middle\" x=\"478.193\" y=\"-86.3\">marital-status</text>\n",
       "</g>\n",
       "<!-- marital&#45;status&#45;&gt;relationship -->\n",
       "<g class=\"edge\" id=\"edge2\"><title>marital-status-&gt;relationship</title>\n",
       "<path d=\"M441.353,-68.0342C422.475,-57.2909 399.883,-44.4333 382.569,-34.5801\" fill=\"none\" stroke=\"black\"/>\n",
       "<polygon fill=\"black\" points=\"439.86,-71.2116 450.282,-73.1159 443.322,-65.1278 439.86,-71.2116\" stroke=\"black\"/>\n",
       "</g>\n",
       "<!-- age -->\n",
       "<g class=\"node\" id=\"node5\"><title>age</title>\n",
       "<ellipse cx=\"528.193\" cy=\"-234\" fill=\"none\" rx=\"27.0966\" ry=\"18\" stroke=\"black\"/>\n",
       "<text font-family=\"Times,serif\" font-size=\"14.00\" text-anchor=\"middle\" x=\"528.193\" y=\"-230.3\">age</text>\n",
       "</g>\n",
       "<!-- age&#45;&gt;marital&#45;status -->\n",
       "<g class=\"edge\" id=\"edge11\"><title>age-&gt;marital-status</title>\n",
       "<path d=\"M520.444,-216.49C515.73,-206.131 509.757,-192.428 505.193,-180 497.654,-159.474 490.535,-135.759 485.502,-117.973\" fill=\"none\" stroke=\"black\"/>\n",
       "<polygon fill=\"black\" points=\"488.85,-116.947 482.792,-108.255 482.107,-118.828 488.85,-116.947\" stroke=\"black\"/>\n",
       "</g>\n",
       "<!-- age&#45;&gt;relationship -->\n",
       "<g class=\"edge\" id=\"edge3\"><title>age-&gt;relationship</title>\n",
       "<path d=\"M510.195,-220.301C481.972,-199.602 427.039,-156.048 393.193,-108 379.723,-88.878 369.665,-64.2328 363.292,-45.7269\" fill=\"none\" stroke=\"black\"/>\n",
       "<polygon fill=\"black\" points=\"366.59,-44.551 360.132,-36.1515 359.942,-46.7446 366.59,-44.551\" stroke=\"black\"/>\n",
       "</g>\n",
       "<!-- capital&#45;gain -->\n",
       "<g class=\"node\" id=\"node8\"><title>capital-gain</title>\n",
       "<ellipse cx=\"580.193\" cy=\"-162\" fill=\"none\" rx=\"65.7887\" ry=\"18\" stroke=\"black\"/>\n",
       "<text font-family=\"Times,serif\" font-size=\"14.00\" text-anchor=\"middle\" x=\"580.193\" y=\"-158.3\">capital-gain</text>\n",
       "</g>\n",
       "<!-- age&#45;&gt;capital&#45;gain -->\n",
       "<g class=\"edge\" id=\"edge5\"><title>age-&gt;capital-gain</title>\n",
       "<path d=\"M539.733,-217.465C546.12,-208.867 554.215,-197.97 561.482,-188.187\" fill=\"none\" stroke=\"black\"/>\n",
       "<polygon fill=\"black\" points=\"564.439,-190.076 567.592,-179.962 558.82,-185.902 564.439,-190.076\" stroke=\"black\"/>\n",
       "</g>\n",
       "<!-- income_&gt;50K -->\n",
       "<g class=\"node\" id=\"node9\"><title>income_&gt;50K</title>\n",
       "<ellipse cx=\"674.193\" cy=\"-18\" fill=\"none\" rx=\"75.2868\" ry=\"18\" stroke=\"black\"/>\n",
       "<text font-family=\"Times,serif\" font-size=\"14.00\" text-anchor=\"middle\" x=\"674.193\" y=\"-14.3\">income_&gt;50K</text>\n",
       "</g>\n",
       "<!-- age&#45;&gt;income_&gt;50K -->\n",
       "<g class=\"edge\" id=\"edge10\"><title>age-&gt;income_&gt;50K</title>\n",
       "<path d=\"M553.961,-227.991C603.407,-216.767 709.993,-184.35 747.193,-108 754.201,-93.6164 754.459,-86.2549 747.193,-72 740.373,-58.6222 728.423,-47.8309 716.141,-39.5652\" fill=\"none\" stroke=\"black\"/>\n",
       "<polygon fill=\"black\" points=\"717.978,-36.5857 707.645,-34.2455 714.263,-42.5188 717.978,-36.5857\" stroke=\"black\"/>\n",
       "</g>\n",
       "<!-- gender -->\n",
       "<g class=\"node\" id=\"node6\"><title>gender</title>\n",
       "<ellipse cx=\"274.193\" cy=\"-162\" fill=\"none\" rx=\"43.5923\" ry=\"18\" stroke=\"black\"/>\n",
       "<text font-family=\"Times,serif\" font-size=\"14.00\" text-anchor=\"middle\" x=\"274.193\" y=\"-158.3\">gender</text>\n",
       "</g>\n",
       "<!-- gender&#45;&gt;relationship -->\n",
       "<g class=\"edge\" id=\"edge14\"><title>gender-&gt;relationship</title>\n",
       "<path d=\"M289.409,-144.708C298.275,-134.653 309.239,-121.191 317.193,-108 329.197,-88.0906 339.326,-63.7013 346.1,-45.4919\" fill=\"none\" stroke=\"black\"/>\n",
       "<polygon fill=\"black\" points=\"349.395,-46.6734 349.509,-36.0791 342.813,-44.2898 349.395,-46.6734\" stroke=\"black\"/>\n",
       "</g>\n",
       "<!-- occupation -->\n",
       "<g class=\"node\" id=\"node7\"><title>occupation</title>\n",
       "<ellipse cx=\"246.193\" cy=\"-90\" fill=\"none\" rx=\"61.99\" ry=\"18\" stroke=\"black\"/>\n",
       "<text font-family=\"Times,serif\" font-size=\"14.00\" text-anchor=\"middle\" x=\"246.193\" y=\"-86.3\">occupation</text>\n",
       "</g>\n",
       "<!-- gender&#45;&gt;occupation -->\n",
       "<g class=\"edge\" id=\"edge4\"><title>gender-&gt;occupation</title>\n",
       "<path d=\"M267.415,-144.055C264.263,-136.176 260.439,-126.617 256.91,-117.794\" fill=\"none\" stroke=\"black\"/>\n",
       "<polygon fill=\"black\" points=\"260.066,-116.26 253.103,-108.275 253.567,-118.86 260.066,-116.26\" stroke=\"black\"/>\n",
       "</g>\n",
       "<!-- occupation&#45;&gt;workclass -->\n",
       "<g class=\"edge\" id=\"edge7\"><title>occupation-&gt;workclass</title>\n",
       "<path d=\"M217.661,-66.3045C204.774,-56.0534 189.858,-44.1886 178.189,-34.906\" fill=\"none\" stroke=\"black\"/>\n",
       "<polygon fill=\"black\" points=\"215.778,-69.2785 225.782,-72.7646 220.135,-63.8003 215.778,-69.2785\" stroke=\"black\"/>\n",
       "</g>\n",
       "<!-- capital&#45;gain&#45;&gt;marital&#45;status -->\n",
       "<g class=\"edge\" id=\"edge9\"><title>capital-gain-&gt;marital-status</title>\n",
       "<path d=\"M548.545,-139.281C533.504,-128.959 515.827,-116.827 501.954,-107.307\" fill=\"none\" stroke=\"black\"/>\n",
       "<polygon fill=\"black\" points=\"546.822,-142.343 557.047,-145.116 550.783,-136.572 546.822,-142.343\" stroke=\"black\"/>\n",
       "</g>\n",
       "<!-- capital&#45;gain&#45;&gt;income_&gt;50K -->\n",
       "<g class=\"edge\" id=\"edge6\"><title>capital-gain-&gt;income_&gt;50K</title>\n",
       "<path d=\"M581.661,-133.9C583.795,-115.177 588.929,-90.4248 601.193,-72 611.693,-56.2245 628.576,-43.5213 643.462,-34.5105\" fill=\"none\" stroke=\"black\"/>\n",
       "<polygon fill=\"black\" points=\"578.175,-133.589 580.74,-143.869 585.146,-134.233 578.175,-133.589\" stroke=\"black\"/>\n",
       "</g>\n",
       "<!-- capital&#45;loss -->\n",
       "<g class=\"node\" id=\"node10\"><title>capital-loss</title>\n",
       "<ellipse cx=\"674.193\" cy=\"-90\" fill=\"none\" rx=\"63.8893\" ry=\"18\" stroke=\"black\"/>\n",
       "<text font-family=\"Times,serif\" font-size=\"14.00\" text-anchor=\"middle\" x=\"674.193\" y=\"-86.3\">capital-loss</text>\n",
       "</g>\n",
       "<!-- capital&#45;gain&#45;&gt;capital&#45;loss -->\n",
       "<g class=\"edge\" id=\"edge16\"><title>capital-gain-&gt;capital-loss</title>\n",
       "<path d=\"M610.215,-138.643C623.965,-128.403 639.955,-116.496 652.509,-107.147\" fill=\"none\" stroke=\"black\"/>\n",
       "<polygon fill=\"black\" points=\"607.924,-135.985 601.994,-144.765 612.105,-141.599 607.924,-135.985\" stroke=\"black\"/>\n",
       "</g>\n",
       "<!-- capital&#45;loss&#45;&gt;income_&gt;50K -->\n",
       "<g class=\"edge\" id=\"edge8\"><title>capital-loss-&gt;income_&gt;50K</title>\n",
       "<path d=\"M674.193,-71.6966C674.193,-63.9827 674.193,-54.7125 674.193,-46.1124\" fill=\"none\" stroke=\"black\"/>\n",
       "<polygon fill=\"black\" points=\"677.693,-46.1043 674.193,-36.1043 670.693,-46.1044 677.693,-46.1043\" stroke=\"black\"/>\n",
       "</g>\n",
       "<!-- native&#45;country -->\n",
       "<g class=\"node\" id=\"node11\"><title>native-country</title>\n",
       "<ellipse cx=\"825.193\" cy=\"-234\" fill=\"none\" rx=\"78.7863\" ry=\"18\" stroke=\"black\"/>\n",
       "<text font-family=\"Times,serif\" font-size=\"14.00\" text-anchor=\"middle\" x=\"825.193\" y=\"-230.3\">native-country</text>\n",
       "</g>\n",
       "<!-- race -->\n",
       "<g class=\"node\" id=\"node12\"><title>race</title>\n",
       "<ellipse cx=\"825.193\" cy=\"-162\" fill=\"none\" rx=\"31.3957\" ry=\"18\" stroke=\"black\"/>\n",
       "<text font-family=\"Times,serif\" font-size=\"14.00\" text-anchor=\"middle\" x=\"825.193\" y=\"-158.3\">race</text>\n",
       "</g>\n",
       "<!-- native&#45;country&#45;&gt;race -->\n",
       "<g class=\"edge\" id=\"edge12\"><title>native-country-&gt;race</title>\n",
       "<path d=\"M825.193,-215.697C825.193,-204.846 825.193,-190.917 825.193,-180.104\" fill=\"none\" stroke=\"black\"/>\n",
       "</g>\n",
       "<!-- education -->\n",
       "<g class=\"node\" id=\"node13\"><title>education</title>\n",
       "<ellipse cx=\"105.193\" cy=\"-162\" fill=\"none\" rx=\"56.59\" ry=\"18\" stroke=\"black\"/>\n",
       "<text font-family=\"Times,serif\" font-size=\"14.00\" text-anchor=\"middle\" x=\"105.193\" y=\"-158.3\">education</text>\n",
       "</g>\n",
       "<!-- education&#45;&gt;hours&#45;per&#45;week -->\n",
       "<g class=\"edge\" id=\"edge17\"><title>education-&gt;hours-per-week</title>\n",
       "<path d=\"M99.867,-144.055C97.4175,-136.261 94.4509,-126.822 91.7031,-118.079\" fill=\"none\" stroke=\"black\"/>\n",
       "<polygon fill=\"black\" points=\"94.9593,-116.766 88.622,-108.275 88.2814,-118.865 94.9593,-116.766\" stroke=\"black\"/>\n",
       "</g>\n",
       "<!-- education&#45;&gt;occupation -->\n",
       "<g class=\"edge\" id=\"edge15\"><title>education-&gt;occupation</title>\n",
       "<path d=\"M134.408,-146.496C155.393,-136.078 183.913,-121.919 206.893,-110.51\" fill=\"none\" stroke=\"black\"/>\n",
       "<polygon fill=\"black\" points=\"208.641,-113.55 216.042,-105.968 205.529,-107.28 208.641,-113.55\" stroke=\"black\"/>\n",
       "</g>\n",
       "</g>\n",
       "</svg>"
      ],
      "text/plain": [
       "<IPython.core.display.SVG object>"
      ]
     },
     "execution_count": 30,
     "metadata": {},
     "output_type": "execute_result"
    }
   ],
   "source": [
    "dot_str = javabridge.static_call('edu/cmu/tetrad/graph/GraphUtils',\n",
    "                                   'graphToDot',\n",
    "                                   '(Ledu/cmu/tetrad/graph/Graph;)Ljava/lang/String;', \n",
    "                                   tetradGraph)\n",
    "graphs = pydot.graph_from_dot_data(dot_str)\n",
    "svg_str = graphs[0].create_svg()\n",
    "SVG(svg_str)"
   ]
  },
  {
   "cell_type": "code",
   "execution_count": 31,
   "metadata": {
    "scrolled": true
   },
   "outputs": [
    {
     "data": {
      "text/html": [
       "<div style=\"width:400px; height:300px\">b'<?xml version=\"1.0\" encoding=\"UTF-8\" standalone=\"no\"?>\\n<!DOCTYPE svg PUBLIC \"-//W3C//DTD SVG 1.1//EN\"\\n \"http://www.w3.org/Graphics/SVG/1.1/DTD/svg11.dtd\">\\n<!-- Generated by graphviz version 2.38.0 (20140413.2041)\\n -->\\n<!-- Title: g Pages: 1 -->\\n<svg width=\"912pt\" height=\"260pt\"\\n viewBox=\"0.00 0.00 911.84 260.00\" xmlns=\"http://www.w3.org/2000/svg\" xmlns:xlink=\"http://www.w3.org/1999/xlink\">\\n<g id=\"graph0\" class=\"graph\" transform=\"scale(1 1) rotate(0) translate(4 256)\">\\n<title>g</title>\\n<polygon fill=\"white\" stroke=\"none\" points=\"-4,4 -4,-256 907.836,-256 907.836,4 -4,4\"/>\\n<!-- hours&#45;per&#45;week -->\\n<g id=\"node1\" class=\"node\"><title>hours&#45;per&#45;week</title>\\n<ellipse fill=\"none\" stroke=\"black\" cx=\"83.1926\" cy=\"-90\" rx=\"83.3857\" ry=\"18\"/>\\n<text text-anchor=\"middle\" x=\"83.1926\" y=\"-86.3\" font-family=\"Times,serif\" font-size=\"14.00\">hours&#45;per&#45;week</text>\\n</g>\\n<!-- workclass -->\\n<g id=\"node2\" class=\"node\"><title>workclass</title>\\n<ellipse fill=\"none\" stroke=\"black\" cx=\"158.193\" cy=\"-18\" rx=\"57.6901\" ry=\"18\"/>\\n<text text-anchor=\"middle\" x=\"158.193\" y=\"-14.3\" font-family=\"Times,serif\" font-size=\"14.00\">workclass</text>\\n</g>\\n<!-- hours&#45;per&#45;week&#45;&gt;workclass -->\\n<g id=\"edge1\" class=\"edge\"><title>hours&#45;per&#45;week&#45;&gt;workclass</title>\\n<path fill=\"none\" stroke=\"black\" d=\"M108.4,-65.4735C119.047,-55.5359 131.181,-44.2109 140.805,-35.2285\"/>\\n<polygon fill=\"black\" stroke=\"black\" points=\"105.889,-63.0291 100.967,-72.411 110.665,-68.1465 105.889,-63.0291\"/>\\n</g>\\n<!-- relationship -->\\n<g id=\"node4\" class=\"node\"><title>relationship</title>\\n<ellipse fill=\"none\" stroke=\"black\" cx=\"355.193\" cy=\"-18\" rx=\"66.0889\" ry=\"18\"/>\\n<text text-anchor=\"middle\" x=\"355.193\" y=\"-14.3\" font-family=\"Times,serif\" font-size=\"14.00\">relationship</text>\\n</g>\\n<!-- hours&#45;per&#45;week&#45;&gt;relationship -->\\n<g id=\"edge13\" class=\"edge\"><title>hours&#45;per&#45;week&#45;&gt;relationship</title>\\n<path fill=\"none\" stroke=\"black\" d=\"M144.373,-73.255C194.235,-60.423 263.576,-42.5777 308.908,-30.9114\"/>\\n<polygon fill=\"black\" stroke=\"black\" points=\"143.486,-69.8693 134.674,-75.7512 145.23,-76.6484 143.486,-69.8693\"/>\\n</g>\\n<!-- marital&#45;status -->\\n<g id=\"node3\" class=\"node\"><title>marital&#45;status</title>\\n<ellipse fill=\"none\" stroke=\"black\" cx=\"478.193\" cy=\"-90\" rx=\"76.0865\" ry=\"18\"/>\\n<text text-anchor=\"middle\" x=\"478.193\" y=\"-86.3\" font-family=\"Times,serif\" font-size=\"14.00\">marital&#45;status</text>\\n</g>\\n<!-- marital&#45;status&#45;&gt;relationship -->\\n<g id=\"edge2\" class=\"edge\"><title>marital&#45;status&#45;&gt;relationship</title>\\n<path fill=\"none\" stroke=\"black\" d=\"M441.353,-68.0342C422.475,-57.2909 399.883,-44.4333 382.569,-34.5801\"/>\\n<polygon fill=\"black\" stroke=\"black\" points=\"439.86,-71.2116 450.282,-73.1159 443.322,-65.1278 439.86,-71.2116\"/>\\n</g>\\n<!-- age -->\\n<g id=\"node5\" class=\"node\"><title>age</title>\\n<ellipse fill=\"none\" stroke=\"black\" cx=\"528.193\" cy=\"-234\" rx=\"27.0966\" ry=\"18\"/>\\n<text text-anchor=\"middle\" x=\"528.193\" y=\"-230.3\" font-family=\"Times,serif\" font-size=\"14.00\">age</text>\\n</g>\\n<!-- age&#45;&gt;marital&#45;status -->\\n<g id=\"edge11\" class=\"edge\"><title>age&#45;&gt;marital&#45;status</title>\\n<path fill=\"none\" stroke=\"black\" d=\"M520.444,-216.49C515.73,-206.131 509.757,-192.428 505.193,-180 497.654,-159.474 490.535,-135.759 485.502,-117.973\"/>\\n<polygon fill=\"black\" stroke=\"black\" points=\"488.85,-116.947 482.792,-108.255 482.107,-118.828 488.85,-116.947\"/>\\n</g>\\n<!-- age&#45;&gt;relationship -->\\n<g id=\"edge3\" class=\"edge\"><title>age&#45;&gt;relationship</title>\\n<path fill=\"none\" stroke=\"black\" d=\"M510.195,-220.301C481.972,-199.602 427.039,-156.048 393.193,-108 379.723,-88.878 369.665,-64.2328 363.292,-45.7269\"/>\\n<polygon fill=\"black\" stroke=\"black\" points=\"366.59,-44.551 360.132,-36.1515 359.942,-46.7446 366.59,-44.551\"/>\\n</g>\\n<!-- capital&#45;gain -->\\n<g id=\"node8\" class=\"node\"><title>capital&#45;gain</title>\\n<ellipse fill=\"none\" stroke=\"black\" cx=\"580.193\" cy=\"-162\" rx=\"65.7887\" ry=\"18\"/>\\n<text text-anchor=\"middle\" x=\"580.193\" y=\"-158.3\" font-family=\"Times,serif\" font-size=\"14.00\">capital&#45;gain</text>\\n</g>\\n<!-- age&#45;&gt;capital&#45;gain -->\\n<g id=\"edge5\" class=\"edge\"><title>age&#45;&gt;capital&#45;gain</title>\\n<path fill=\"none\" stroke=\"black\" d=\"M539.733,-217.465C546.12,-208.867 554.215,-197.97 561.482,-188.187\"/>\\n<polygon fill=\"black\" stroke=\"black\" points=\"564.439,-190.076 567.592,-179.962 558.82,-185.902 564.439,-190.076\"/>\\n</g>\\n<!-- income_&gt;50K -->\\n<g id=\"node9\" class=\"node\"><title>income_&gt;50K</title>\\n<ellipse fill=\"none\" stroke=\"black\" cx=\"674.193\" cy=\"-18\" rx=\"75.2868\" ry=\"18\"/>\\n<text text-anchor=\"middle\" x=\"674.193\" y=\"-14.3\" font-family=\"Times,serif\" font-size=\"14.00\">income_&gt;50K</text>\\n</g>\\n<!-- age&#45;&gt;income_&gt;50K -->\\n<g id=\"edge10\" class=\"edge\"><title>age&#45;&gt;income_&gt;50K</title>\\n<path fill=\"none\" stroke=\"black\" d=\"M553.961,-227.991C603.407,-216.767 709.993,-184.35 747.193,-108 754.201,-93.6164 754.459,-86.2549 747.193,-72 740.373,-58.6222 728.423,-47.8309 716.141,-39.5652\"/>\\n<polygon fill=\"black\" stroke=\"black\" points=\"717.978,-36.5857 707.645,-34.2455 714.263,-42.5188 717.978,-36.5857\"/>\\n</g>\\n<!-- gender -->\\n<g id=\"node6\" class=\"node\"><title>gender</title>\\n<ellipse fill=\"none\" stroke=\"black\" cx=\"274.193\" cy=\"-162\" rx=\"43.5923\" ry=\"18\"/>\\n<text text-anchor=\"middle\" x=\"274.193\" y=\"-158.3\" font-family=\"Times,serif\" font-size=\"14.00\">gender</text>\\n</g>\\n<!-- gender&#45;&gt;relationship -->\\n<g id=\"edge14\" class=\"edge\"><title>gender&#45;&gt;relationship</title>\\n<path fill=\"none\" stroke=\"black\" d=\"M289.409,-144.708C298.275,-134.653 309.239,-121.191 317.193,-108 329.197,-88.0906 339.326,-63.7013 346.1,-45.4919\"/>\\n<polygon fill=\"black\" stroke=\"black\" points=\"349.395,-46.6734 349.509,-36.0791 342.813,-44.2898 349.395,-46.6734\"/>\\n</g>\\n<!-- occupation -->\\n<g id=\"node7\" class=\"node\"><title>occupation</title>\\n<ellipse fill=\"none\" stroke=\"black\" cx=\"246.193\" cy=\"-90\" rx=\"61.99\" ry=\"18\"/>\\n<text text-anchor=\"middle\" x=\"246.193\" y=\"-86.3\" font-family=\"Times,serif\" font-size=\"14.00\">occupation</text>\\n</g>\\n<!-- gender&#45;&gt;occupation -->\\n<g id=\"edge4\" class=\"edge\"><title>gender&#45;&gt;occupation</title>\\n<path fill=\"none\" stroke=\"black\" d=\"M267.415,-144.055C264.263,-136.176 260.439,-126.617 256.91,-117.794\"/>\\n<polygon fill=\"black\" stroke=\"black\" points=\"260.066,-116.26 253.103,-108.275 253.567,-118.86 260.066,-116.26\"/>\\n</g>\\n<!-- occupation&#45;&gt;workclass -->\\n<g id=\"edge7\" class=\"edge\"><title>occupation&#45;&gt;workclass</title>\\n<path fill=\"none\" stroke=\"black\" d=\"M217.661,-66.3045C204.774,-56.0534 189.858,-44.1886 178.189,-34.906\"/>\\n<polygon fill=\"black\" stroke=\"black\" points=\"215.778,-69.2785 225.782,-72.7646 220.135,-63.8003 215.778,-69.2785\"/>\\n</g>\\n<!-- capital&#45;gain&#45;&gt;marital&#45;status -->\\n<g id=\"edge9\" class=\"edge\"><title>capital&#45;gain&#45;&gt;marital&#45;status</title>\\n<path fill=\"none\" stroke=\"black\" d=\"M548.545,-139.281C533.504,-128.959 515.827,-116.827 501.954,-107.307\"/>\\n<polygon fill=\"black\" stroke=\"black\" points=\"546.822,-142.343 557.047,-145.116 550.783,-136.572 546.822,-142.343\"/>\\n</g>\\n<!-- capital&#45;gain&#45;&gt;income_&gt;50K -->\\n<g id=\"edge6\" class=\"edge\"><title>capital&#45;gain&#45;&gt;income_&gt;50K</title>\\n<path fill=\"none\" stroke=\"black\" d=\"M581.661,-133.9C583.795,-115.177 588.929,-90.4248 601.193,-72 611.693,-56.2245 628.576,-43.5213 643.462,-34.5105\"/>\\n<polygon fill=\"black\" stroke=\"black\" points=\"578.175,-133.589 580.74,-143.869 585.146,-134.233 578.175,-133.589\"/>\\n</g>\\n<!-- capital&#45;loss -->\\n<g id=\"node10\" class=\"node\"><title>capital&#45;loss</title>\\n<ellipse fill=\"none\" stroke=\"black\" cx=\"674.193\" cy=\"-90\" rx=\"63.8893\" ry=\"18\"/>\\n<text text-anchor=\"middle\" x=\"674.193\" y=\"-86.3\" font-family=\"Times,serif\" font-size=\"14.00\">capital&#45;loss</text>\\n</g>\\n<!-- capital&#45;gain&#45;&gt;capital&#45;loss -->\\n<g id=\"edge16\" class=\"edge\"><title>capital&#45;gain&#45;&gt;capital&#45;loss</title>\\n<path fill=\"none\" stroke=\"black\" d=\"M610.215,-138.643C623.965,-128.403 639.955,-116.496 652.509,-107.147\"/>\\n<polygon fill=\"black\" stroke=\"black\" points=\"607.924,-135.985 601.994,-144.765 612.105,-141.599 607.924,-135.985\"/>\\n</g>\\n<!-- capital&#45;loss&#45;&gt;income_&gt;50K -->\\n<g id=\"edge8\" class=\"edge\"><title>capital&#45;loss&#45;&gt;income_&gt;50K</title>\\n<path fill=\"none\" stroke=\"black\" d=\"M674.193,-71.6966C674.193,-63.9827 674.193,-54.7125 674.193,-46.1124\"/>\\n<polygon fill=\"black\" stroke=\"black\" points=\"677.693,-46.1043 674.193,-36.1043 670.693,-46.1044 677.693,-46.1043\"/>\\n</g>\\n<!-- native&#45;country -->\\n<g id=\"node11\" class=\"node\"><title>native&#45;country</title>\\n<ellipse fill=\"none\" stroke=\"black\" cx=\"825.193\" cy=\"-234\" rx=\"78.7863\" ry=\"18\"/>\\n<text text-anchor=\"middle\" x=\"825.193\" y=\"-230.3\" font-family=\"Times,serif\" font-size=\"14.00\">native&#45;country</text>\\n</g>\\n<!-- race -->\\n<g id=\"node12\" class=\"node\"><title>race</title>\\n<ellipse fill=\"none\" stroke=\"black\" cx=\"825.193\" cy=\"-162\" rx=\"31.3957\" ry=\"18\"/>\\n<text text-anchor=\"middle\" x=\"825.193\" y=\"-158.3\" font-family=\"Times,serif\" font-size=\"14.00\">race</text>\\n</g>\\n<!-- native&#45;country&#45;&gt;race -->\\n<g id=\"edge12\" class=\"edge\"><title>native&#45;country&#45;&gt;race</title>\\n<path fill=\"none\" stroke=\"black\" d=\"M825.193,-215.697C825.193,-204.846 825.193,-190.917 825.193,-180.104\"/>\\n</g>\\n<!-- education -->\\n<g id=\"node13\" class=\"node\"><title>education</title>\\n<ellipse fill=\"none\" stroke=\"black\" cx=\"105.193\" cy=\"-162\" rx=\"56.59\" ry=\"18\"/>\\n<text text-anchor=\"middle\" x=\"105.193\" y=\"-158.3\" font-family=\"Times,serif\" font-size=\"14.00\">education</text>\\n</g>\\n<!-- education&#45;&gt;hours&#45;per&#45;week -->\\n<g id=\"edge17\" class=\"edge\"><title>education&#45;&gt;hours&#45;per&#45;week</title>\\n<path fill=\"none\" stroke=\"black\" d=\"M99.867,-144.055C97.4175,-136.261 94.4509,-126.822 91.7031,-118.079\"/>\\n<polygon fill=\"black\" stroke=\"black\" points=\"94.9593,-116.766 88.622,-108.275 88.2814,-118.865 94.9593,-116.766\"/>\\n</g>\\n<!-- education&#45;&gt;occupation -->\\n<g id=\"edge15\" class=\"edge\"><title>education&#45;&gt;occupation</title>\\n<path fill=\"none\" stroke=\"black\" d=\"M134.408,-146.496C155.393,-136.078 183.913,-121.919 206.893,-110.51\"/>\\n<polygon fill=\"black\" stroke=\"black\" points=\"208.641,-113.55 216.042,-105.968 205.529,-107.28 208.641,-113.55\"/>\\n</g>\\n</g>\\n</svg>\\n'</div>"
      ],
      "text/plain": [
       "<IPython.core.display.HTML object>"
      ]
     },
     "execution_count": 31,
     "metadata": {},
     "output_type": "execute_result"
    }
   ],
   "source": [
    "from IPython.display import HTML\n",
    "\n",
    "# Your code to generate the SVG and store it in svg_str\n",
    "\n",
    "# Define the desired width and height for the SVG\n",
    "width = 400  # Change to your desired width\n",
    "height = 300  # Change to your desired height\n",
    "\n",
    "# Create an HTML string with CSS to set the width and height\n",
    "html_str = '<div style=\"width:{}px; height:{}px\">{}</div>'.format(width, height, svg_str)\n",
    "\n",
    "# Display the HTML string in the notebook\n",
    "HTML(html_str)\n"
   ]
  },
  {
   "cell_type": "code",
   "execution_count": 32,
   "metadata": {},
   "outputs": [],
   "source": [
    "# javabridge.detach()\n",
    "# javabridge.kill_vm() "
   ]
  },
  {
   "cell_type": "markdown",
   "metadata": {},
   "source": [
    "# Score based algo"
   ]
  },
  {
   "cell_type": "code",
   "execution_count": 33,
   "metadata": {},
   "outputs": [],
   "source": [
    "structurePrior = 1.0\n",
    "score = javabridge.JClassWrapper('edu.cmu.tetrad.search.ConditionalGaussianScore')(tetradData, structurePrior, True)\n",
    "score.setPenaltyDiscount(2)# set to 2 if variable# <= 50 otherwise set it to 4"
   ]
  },
  {
   "cell_type": "code",
   "execution_count": 34,
   "metadata": {},
   "outputs": [],
   "source": [
    "fges = javabridge.JClassWrapper(\"edu.cmu.tetrad.search.Fges\")(score)"
   ]
  },
  {
   "cell_type": "code",
   "execution_count": 35,
   "metadata": {},
   "outputs": [],
   "source": [
    "fges.setMaxDegree(-1)\n",
    "# fges.setNumPatternsToStore(0)\n",
    "fges.setFaithfulnessAssumed(True)\n",
    "# fges.setParallelism(2)\n",
    "fges.setVerbose(True)"
   ]
  },
  {
   "cell_type": "code",
   "execution_count": 36,
   "metadata": {},
   "outputs": [
    {
     "data": {
      "text/plain": [
       "Instance of edu.cmu.tetrad.graph.EdgeListGraphSingleConnections: Graph Nodes:\n",
       "age;workclass;education;marital-status;occupation;relationship;race;gender;capital-gain;capital-loss;hours-per-week;native-country;income_>50K\n",
       "\n",
       "Graph Edges:\n",
       "1. age --> capital-gain\n",
       "2. age --> income_>50K\n",
       "3. age --> marital-status\n",
       "4. capital-loss --> capital-gain\n",
       "5. capital-loss --> hours-per-week\n",
       "6. gender --> age\n",
       "7. gender --> hours-per-week\n",
       "8. gender --- occupation\n",
       "9. hours-per-week --> age\n",
       "10. income_>50K --> capital-gain\n",
       "11. native-country --- race\n",
       "12. occupation --- education\n",
       "13. occupation --> hours-per-week\n",
       "14. occupation --- workclass\n",
       "15. race --- relationship\n",
       "16. relationship --> age\n",
       "17. relationship --- gender\n",
       "18. relationship --> hours-per-week\n",
       "19. relationship --> income_>50K\n",
       "20. relationship --> marital-status\n",
       "\n",
       "Graph Attributes:\n",
       "BIC: -398013.903494\n",
       "\n",
       "Graph Node Attributes:\n",
       "BIC: [age: -73266.974468;workclass: -26586.553520;education: -55597.567537;marital-status: -14805.211596;occupation: -67628.926713;relationship: -44386.431114;race: -14830.668773;gender: -10815.944271;capital-gain: 9322.538706;capital-loss: 34676.806240;hours-per-week: -103740.559930;native-country: -17268.186446;income_>50K: -13086.224072]"
      ]
     },
     "execution_count": 36,
     "metadata": {},
     "output_type": "execute_result"
    }
   ],
   "source": [
    "tetradGraph = fges.search()\n",
    "tetradGraph"
   ]
  },
  {
   "cell_type": "code",
   "execution_count": 37,
   "metadata": {},
   "outputs": [
    {
     "data": {
      "text/plain": [
       "'Graph Nodes:\\nage;workclass;education;marital-status;occupation;relationship;race;gender;capital-gain;capital-loss;hours-per-week;native-country;income_>50K\\n\\nGraph Edges:\\n1. age --> capital-gain\\n2. age --> income_>50K\\n3. age --> marital-status\\n4. capital-loss --> capital-gain\\n5. capital-loss --> hours-per-week\\n6. gender --> age\\n7. gender --> hours-per-week\\n8. gender --- occupation\\n9. hours-per-week --> age\\n10. income_>50K --> capital-gain\\n11. native-country --- race\\n12. occupation --- education\\n13. occupation --> hours-per-week\\n14. occupation --- workclass\\n15. race --- relationship\\n16. relationship --> age\\n17. relationship --- gender\\n18. relationship --> hours-per-week\\n19. relationship --> income_>50K\\n20. relationship --> marital-status\\n\\nGraph Attributes:\\nBIC: -398013.903494\\n\\nGraph Node Attributes:\\nBIC: [age: -73266.974468;workclass: -26586.553520;education: -55597.567537;marital-status: -14805.211596;occupation: -67628.926713;relationship: -44386.431114;race: -14830.668773;gender: -10815.944271;capital-gain: 9322.538706;capital-loss: 34676.806240;hours-per-week: -103740.559930;native-country: -17268.186446;income_>50K: -13086.224072]\\n'"
      ]
     },
     "execution_count": 37,
     "metadata": {},
     "output_type": "execute_result"
    }
   ],
   "source": [
    "tetradGraph.toString()"
   ]
  },
  {
   "cell_type": "code",
   "execution_count": 38,
   "metadata": {},
   "outputs": [
    {
     "data": {
      "text/plain": [
       "Instance of java.util.ArrayList: [age, workclass, education, marital-status, occupation, relationship, race, gender, capital-gain, capital-loss, hours-per-week, native-country, income_>50K]"
      ]
     },
     "execution_count": 38,
     "metadata": {},
     "output_type": "execute_result"
    }
   ],
   "source": [
    "tetradGraph.getNodeNames()"
   ]
  },
  {
   "cell_type": "code",
   "execution_count": 39,
   "metadata": {},
   "outputs": [
    {
     "data": {
      "text/plain": [
       "Instance of java.util.HashSet: [relationship --> marital-status, gender --> age, occupation --> hours-per-week, relationship --> age, gender --- occupation, race --- relationship, age --> capital-gain, hours-per-week --> age, income_>50K --> capital-gain, occupation --- workclass, relationship --> income_>50K, age --> income_>50K, gender --> hours-per-week, age --> marital-status, native-country --- race, relationship --> hours-per-week, relationship --- gender, occupation --- education, capital-loss --> hours-per-week, capital-loss --> capital-gain]"
      ]
     },
     "execution_count": 39,
     "metadata": {},
     "output_type": "execute_result"
    }
   ],
   "source": [
    "tetradGraph.getEdges()"
   ]
  },
  {
   "cell_type": "code",
   "execution_count": 40,
   "metadata": {
    "scrolled": false
   },
   "outputs": [
    {
     "data": {
      "image/svg+xml": [
       "<svg height=\"404pt\" viewBox=\"0.00 0.00 797.19 404.00\" width=\"797pt\" xmlns=\"http://www.w3.org/2000/svg\" xmlns:xlink=\"http://www.w3.org/1999/xlink\">\n",
       "<g class=\"graph\" id=\"graph0\" transform=\"scale(1 1) rotate(0) translate(4 400)\">\n",
       "<title>g</title>\n",
       "<polygon fill=\"white\" points=\"-4,4 -4,-400 793.188,-400 793.188,4 -4,4\" stroke=\"none\"/>\n",
       "<!-- marital&#45;status -->\n",
       "<g class=\"node\" id=\"node1\"><title>marital-status</title>\n",
       "<ellipse cx=\"119.643\" cy=\"-306\" fill=\"none\" rx=\"76.0865\" ry=\"18\" stroke=\"black\"/>\n",
       "<text font-family=\"Times,serif\" font-size=\"14.00\" text-anchor=\"middle\" x=\"119.643\" y=\"-302.3\">marital-status</text>\n",
       "</g>\n",
       "<!-- relationship -->\n",
       "<g class=\"node\" id=\"node2\"><title>relationship</title>\n",
       "<ellipse cx=\"258.643\" cy=\"-90\" fill=\"none\" rx=\"66.0889\" ry=\"18\" stroke=\"black\"/>\n",
       "<text font-family=\"Times,serif\" font-size=\"14.00\" text-anchor=\"middle\" x=\"258.643\" y=\"-86.3\">relationship</text>\n",
       "</g>\n",
       "<!-- marital&#45;status&#45;&gt;relationship -->\n",
       "<g class=\"edge\" id=\"edge1\"><title>marital-status-&gt;relationship</title>\n",
       "<path d=\"M144.401,-280.674C152.213,-272.115 160.42,-262.101 166.643,-252 193.744,-208.014 182.088,-187.703 209.643,-144 218.198,-130.432 230.448,-117.182 240.559,-107.324\" fill=\"none\" stroke=\"black\"/>\n",
       "<polygon fill=\"black\" points=\"141.724,-278.41 137.405,-288.085 146.815,-283.215 141.724,-278.41\" stroke=\"black\"/>\n",
       "</g>\n",
       "<!-- age -->\n",
       "<g class=\"node\" id=\"node3\"><title>age</title>\n",
       "<ellipse cx=\"373.643\" cy=\"-378\" fill=\"none\" rx=\"27.0966\" ry=\"18\" stroke=\"black\"/>\n",
       "<text font-family=\"Times,serif\" font-size=\"14.00\" text-anchor=\"middle\" x=\"373.643\" y=\"-374.3\">age</text>\n",
       "</g>\n",
       "<!-- age&#45;&gt;marital&#45;status -->\n",
       "<g class=\"edge\" id=\"edge14\"><title>age-&gt;marital-status</title>\n",
       "<path d=\"M348.826,-370.161C309.341,-359.279 231.17,-337.736 177.184,-322.858\" fill=\"none\" stroke=\"black\"/>\n",
       "<polygon fill=\"black\" points=\"177.97,-319.444 167.4,-320.161 176.111,-326.192 177.97,-319.444\" stroke=\"black\"/>\n",
       "</g>\n",
       "<!-- age&#45;&gt;relationship -->\n",
       "<g class=\"edge\" id=\"edge4\"><title>age-&gt;relationship</title>\n",
       "<path d=\"M345.32,-360.124C313.458,-339.299 263.447,-300.606 242.643,-252 221.754,-203.194 240.43,-138.699 251.636,-108.282\" fill=\"none\" stroke=\"black\"/>\n",
       "<polygon fill=\"black\" points=\"343.471,-363.096 353.786,-365.518 347.233,-357.193 343.471,-363.096\" stroke=\"black\"/>\n",
       "</g>\n",
       "<!-- gender -->\n",
       "<g class=\"node\" id=\"node4\"><title>gender</title>\n",
       "<ellipse cx=\"647.643\" cy=\"-234\" fill=\"none\" rx=\"43.5923\" ry=\"18\" stroke=\"black\"/>\n",
       "<text font-family=\"Times,serif\" font-size=\"14.00\" text-anchor=\"middle\" x=\"647.643\" y=\"-230.3\">gender</text>\n",
       "</g>\n",
       "<!-- age&#45;&gt;gender -->\n",
       "<g class=\"edge\" id=\"edge2\"><title>age-&gt;gender</title>\n",
       "<path d=\"M411.322,-375.994C457.351,-373.035 535.735,-362.236 589.643,-324 615.367,-305.755 632.604,-272.174 641.214,-251.885\" fill=\"none\" stroke=\"black\"/>\n",
       "<polygon fill=\"black\" points=\"410.974,-372.507 401.181,-376.551 411.358,-379.497 410.974,-372.507\" stroke=\"black\"/>\n",
       "</g>\n",
       "<!-- hours&#45;per&#45;week -->\n",
       "<g class=\"node\" id=\"node5\"><title>hours-per-week</title>\n",
       "<ellipse cx=\"498.643\" cy=\"-162\" fill=\"none\" rx=\"83.3857\" ry=\"18\" stroke=\"black\"/>\n",
       "<text font-family=\"Times,serif\" font-size=\"14.00\" text-anchor=\"middle\" x=\"498.643\" y=\"-158.3\">hours-per-week</text>\n",
       "</g>\n",
       "<!-- age&#45;&gt;hours&#45;per&#45;week -->\n",
       "<g class=\"edge\" id=\"edge8\"><title>age-&gt;hours-per-week</title>\n",
       "<path d=\"M408.098,-367.029C454.268,-351.408 533.136,-316.111 556.643,-252 562.151,-236.978 563.097,-230.641 556.643,-216 550.04,-201.022 536.884,-188.441 524.768,-179.3\" fill=\"none\" stroke=\"black\"/>\n",
       "<polygon fill=\"black\" points=\"406.923,-363.73 398.497,-370.153 409.089,-370.387 406.923,-363.73\" stroke=\"black\"/>\n",
       "</g>\n",
       "<!-- capital&#45;gain -->\n",
       "<g class=\"node\" id=\"node8\"><title>capital-gain</title>\n",
       "<ellipse cx=\"420.643\" cy=\"-306\" fill=\"none\" rx=\"65.7887\" ry=\"18\" stroke=\"black\"/>\n",
       "<text font-family=\"Times,serif\" font-size=\"14.00\" text-anchor=\"middle\" x=\"420.643\" y=\"-302.3\">capital-gain</text>\n",
       "</g>\n",
       "<!-- age&#45;&gt;capital&#45;gain -->\n",
       "<g class=\"edge\" id=\"edge7\"><title>age-&gt;capital-gain</title>\n",
       "<path d=\"M384.308,-361.116C390.031,-352.592 397.219,-341.886 403.689,-332.251\" fill=\"none\" stroke=\"black\"/>\n",
       "<polygon fill=\"black\" points=\"406.696,-334.051 409.365,-323.797 400.885,-330.149 406.696,-334.051\" stroke=\"black\"/>\n",
       "</g>\n",
       "<!-- income_&gt;50K -->\n",
       "<g class=\"node\" id=\"node9\"><title>income_&gt;50K</title>\n",
       "<ellipse cx=\"326.643\" cy=\"-234\" fill=\"none\" rx=\"75.2868\" ry=\"18\" stroke=\"black\"/>\n",
       "<text font-family=\"Times,serif\" font-size=\"14.00\" text-anchor=\"middle\" x=\"326.643\" y=\"-230.3\">income_&gt;50K</text>\n",
       "</g>\n",
       "<!-- age&#45;&gt;income_&gt;50K -->\n",
       "<g class=\"edge\" id=\"edge12\"><title>age-&gt;income_&gt;50K</title>\n",
       "<path d=\"M363.598,-360.83C357.628,-350.6 350.33,-336.912 345.643,-324 338.332,-303.858 333.435,-280.079 330.446,-262.169\" fill=\"none\" stroke=\"black\"/>\n",
       "<polygon fill=\"black\" points=\"333.876,-261.453 328.865,-252.119 326.961,-262.541 333.876,-261.453\" stroke=\"black\"/>\n",
       "</g>\n",
       "<!-- gender&#45;&gt;relationship -->\n",
       "<g class=\"edge\" id=\"edge17\"><title>gender-&gt;relationship</title>\n",
       "<path d=\"M641.788,-216.126C633.701,-195.522 617.046,-161.288 590.643,-144 547.549,-115.783 406.063,-101.281 322.343,-94.9955\" fill=\"none\" stroke=\"black\"/>\n",
       "</g>\n",
       "<!-- gender&#45;&gt;hours&#45;per&#45;week -->\n",
       "<g class=\"edge\" id=\"edge13\"><title>gender-&gt;hours-per-week</title>\n",
       "<path d=\"M619.966,-219.998C597.877,-209.62 566.552,-194.904 541.266,-183.024\" fill=\"none\" stroke=\"black\"/>\n",
       "<polygon fill=\"black\" points=\"542.441,-179.709 531.902,-178.625 539.465,-186.045 542.441,-179.709\" stroke=\"black\"/>\n",
       "</g>\n",
       "<!-- occupation -->\n",
       "<g class=\"node\" id=\"node6\"><title>occupation</title>\n",
       "<ellipse cx=\"647.643\" cy=\"-90\" fill=\"none\" rx=\"61.99\" ry=\"18\" stroke=\"black\"/>\n",
       "<text font-family=\"Times,serif\" font-size=\"14.00\" text-anchor=\"middle\" x=\"647.643\" y=\"-86.3\">occupation</text>\n",
       "</g>\n",
       "<!-- gender&#45;&gt;occupation -->\n",
       "<g class=\"edge\" id=\"edge5\"><title>gender-&gt;occupation</title>\n",
       "<path d=\"M647.643,-215.871C647.643,-188.578 647.643,-135.52 647.643,-108.189\" fill=\"none\" stroke=\"black\"/>\n",
       "</g>\n",
       "<!-- hours&#45;per&#45;week&#45;&gt;relationship -->\n",
       "<g class=\"edge\" id=\"edge16\"><title>hours-per-week-&gt;relationship</title>\n",
       "<path d=\"M441.538,-144.344C398.855,-131.895 341.375,-115.13 302.325,-103.741\" fill=\"none\" stroke=\"black\"/>\n",
       "<polygon fill=\"black\" points=\"440.647,-147.73 451.227,-147.17 442.607,-141.01 440.647,-147.73\" stroke=\"black\"/>\n",
       "</g>\n",
       "<!-- hours&#45;per&#45;week&#45;&gt;occupation -->\n",
       "<g class=\"edge\" id=\"edge3\"><title>hours-per-week-&gt;occupation</title>\n",
       "<path d=\"M540.957,-141.121C564.985,-129.832 594.544,-115.946 616.45,-105.654\" fill=\"none\" stroke=\"black\"/>\n",
       "<polygon fill=\"black\" points=\"539.274,-138.045 531.711,-145.465 542.25,-144.38 539.274,-138.045\" stroke=\"black\"/>\n",
       "</g>\n",
       "<!-- workclass -->\n",
       "<g class=\"node\" id=\"node10\"><title>workclass</title>\n",
       "<ellipse cx=\"647.643\" cy=\"-18\" fill=\"none\" rx=\"57.6901\" ry=\"18\" stroke=\"black\"/>\n",
       "<text font-family=\"Times,serif\" font-size=\"14.00\" text-anchor=\"middle\" x=\"647.643\" y=\"-14.3\">workclass</text>\n",
       "</g>\n",
       "<!-- occupation&#45;&gt;workclass -->\n",
       "<g class=\"edge\" id=\"edge10\"><title>occupation-&gt;workclass</title>\n",
       "<path d=\"M647.643,-71.6966C647.643,-60.8463 647.643,-46.9167 647.643,-36.1043\" fill=\"none\" stroke=\"black\"/>\n",
       "</g>\n",
       "<!-- race -->\n",
       "<g class=\"node\" id=\"node7\"><title>race</title>\n",
       "<ellipse cx=\"102.643\" cy=\"-162\" fill=\"none\" rx=\"31.3957\" ry=\"18\" stroke=\"black\"/>\n",
       "<text font-family=\"Times,serif\" font-size=\"14.00\" text-anchor=\"middle\" x=\"102.643\" y=\"-158.3\">race</text>\n",
       "</g>\n",
       "<!-- race&#45;&gt;relationship -->\n",
       "<g class=\"edge\" id=\"edge6\"><title>race-&gt;relationship</title>\n",
       "<path d=\"M126.676,-150.216C153.256,-138.289 196.237,-119.003 225.886,-105.699\" fill=\"none\" stroke=\"black\"/>\n",
       "</g>\n",
       "<!-- capital&#45;gain&#45;&gt;income_&gt;50K -->\n",
       "<g class=\"edge\" id=\"edge9\"><title>capital-gain-&gt;income_&gt;50K</title>\n",
       "<path d=\"M390.681,-282.688C377.036,-272.527 361.175,-260.715 348.652,-251.39\" fill=\"none\" stroke=\"black\"/>\n",
       "<polygon fill=\"black\" points=\"388.73,-285.599 398.841,-288.765 392.911,-279.985 388.73,-285.599\" stroke=\"black\"/>\n",
       "</g>\n",
       "<!-- capital&#45;loss -->\n",
       "<g class=\"node\" id=\"node13\"><title>capital-loss</title>\n",
       "<ellipse cx=\"483.643\" cy=\"-234\" fill=\"none\" rx=\"63.8893\" ry=\"18\" stroke=\"black\"/>\n",
       "<text font-family=\"Times,serif\" font-size=\"14.00\" text-anchor=\"middle\" x=\"483.643\" y=\"-230.3\">capital-loss</text>\n",
       "</g>\n",
       "<!-- capital&#45;gain&#45;&gt;capital&#45;loss -->\n",
       "<g class=\"edge\" id=\"edge20\"><title>capital-gain-&gt;capital-loss</title>\n",
       "<path d=\"M442.443,-280.778C450.992,-271.279 460.598,-260.606 468.382,-251.956\" fill=\"none\" stroke=\"black\"/>\n",
       "<polygon fill=\"black\" points=\"439.661,-278.637 435.573,-288.411 444.864,-283.319 439.661,-278.637\" stroke=\"black\"/>\n",
       "</g>\n",
       "<!-- income_&gt;50K&#45;&gt;relationship -->\n",
       "<g class=\"edge\" id=\"edge11\"><title>income_&gt;50K-&gt;relationship</title>\n",
       "<path d=\"M314.102,-206.812C300.337,-178.066 278.633,-132.745 266.875,-108.189\" fill=\"none\" stroke=\"black\"/>\n",
       "<polygon fill=\"black\" points=\"310.965,-208.364 318.441,-215.871 317.278,-205.341 310.965,-208.364\" stroke=\"black\"/>\n",
       "</g>\n",
       "<!-- native&#45;country -->\n",
       "<g class=\"node\" id=\"node11\"><title>native-country</title>\n",
       "<ellipse cx=\"78.643\" cy=\"-234\" fill=\"none\" rx=\"78.7863\" ry=\"18\" stroke=\"black\"/>\n",
       "<text font-family=\"Times,serif\" font-size=\"14.00\" text-anchor=\"middle\" x=\"78.643\" y=\"-230.3\">native-country</text>\n",
       "</g>\n",
       "<!-- native&#45;country&#45;&gt;race -->\n",
       "<g class=\"edge\" id=\"edge15\"><title>native-country-&gt;race</title>\n",
       "<path d=\"M84.5756,-215.697C88.2957,-204.846 93.0716,-190.917 96.7787,-180.104\" fill=\"none\" stroke=\"black\"/>\n",
       "</g>\n",
       "<!-- education -->\n",
       "<g class=\"node\" id=\"node12\"><title>education</title>\n",
       "<ellipse cx=\"732.643\" cy=\"-162\" fill=\"none\" rx=\"56.59\" ry=\"18\" stroke=\"black\"/>\n",
       "<text font-family=\"Times,serif\" font-size=\"14.00\" text-anchor=\"middle\" x=\"732.643\" y=\"-158.3\">education</text>\n",
       "</g>\n",
       "<!-- education&#45;&gt;occupation -->\n",
       "<g class=\"edge\" id=\"edge18\"><title>education-&gt;occupation</title>\n",
       "<path d=\"M712.929,-144.765C699.197,-133.456 680.959,-118.437 667.25,-107.147\" fill=\"none\" stroke=\"black\"/>\n",
       "</g>\n",
       "<!-- capital&#45;loss&#45;&gt;hours&#45;per&#45;week -->\n",
       "<g class=\"edge\" id=\"edge19\"><title>capital-loss-&gt;hours-per-week</title>\n",
       "<path d=\"M487.351,-215.697C489.004,-207.983 490.99,-198.712 492.833,-190.112\" fill=\"none\" stroke=\"black\"/>\n",
       "<polygon fill=\"black\" points=\"496.305,-190.616 494.978,-180.104 489.46,-189.149 496.305,-190.616\" stroke=\"black\"/>\n",
       "</g>\n",
       "</g>\n",
       "</svg>"
      ],
      "text/plain": [
       "<IPython.core.display.SVG object>"
      ]
     },
     "execution_count": 40,
     "metadata": {},
     "output_type": "execute_result"
    }
   ],
   "source": [
    "dot_str = javabridge.static_call('edu/cmu/tetrad/graph/GraphUtils',\n",
    "                                   'graphToDot',\n",
    "                                   '(Ledu/cmu/tetrad/graph/Graph;)Ljava/lang/String;', \n",
    "                                   tetradGraph)\n",
    "graphs = pydot.graph_from_dot_data(dot_str)\n",
    "svg_str = graphs[0].create_svg()\n",
    "SVG(svg_str)"
   ]
  },
  {
   "cell_type": "code",
   "execution_count": 41,
   "metadata": {},
   "outputs": [
    {
     "data": {
      "text/html": [
       "<div style=\"width:400px; height:300px\">b'<?xml version=\"1.0\" encoding=\"UTF-8\" standalone=\"no\"?>\\n<!DOCTYPE svg PUBLIC \"-//W3C//DTD SVG 1.1//EN\"\\n \"http://www.w3.org/Graphics/SVG/1.1/DTD/svg11.dtd\">\\n<!-- Generated by graphviz version 2.38.0 (20140413.2041)\\n -->\\n<!-- Title: g Pages: 1 -->\\n<svg width=\"797pt\" height=\"404pt\"\\n viewBox=\"0.00 0.00 797.19 404.00\" xmlns=\"http://www.w3.org/2000/svg\" xmlns:xlink=\"http://www.w3.org/1999/xlink\">\\n<g id=\"graph0\" class=\"graph\" transform=\"scale(1 1) rotate(0) translate(4 400)\">\\n<title>g</title>\\n<polygon fill=\"white\" stroke=\"none\" points=\"-4,4 -4,-400 793.188,-400 793.188,4 -4,4\"/>\\n<!-- marital&#45;status -->\\n<g id=\"node1\" class=\"node\"><title>marital&#45;status</title>\\n<ellipse fill=\"none\" stroke=\"black\" cx=\"119.643\" cy=\"-306\" rx=\"76.0865\" ry=\"18\"/>\\n<text text-anchor=\"middle\" x=\"119.643\" y=\"-302.3\" font-family=\"Times,serif\" font-size=\"14.00\">marital&#45;status</text>\\n</g>\\n<!-- relationship -->\\n<g id=\"node2\" class=\"node\"><title>relationship</title>\\n<ellipse fill=\"none\" stroke=\"black\" cx=\"258.643\" cy=\"-90\" rx=\"66.0889\" ry=\"18\"/>\\n<text text-anchor=\"middle\" x=\"258.643\" y=\"-86.3\" font-family=\"Times,serif\" font-size=\"14.00\">relationship</text>\\n</g>\\n<!-- marital&#45;status&#45;&gt;relationship -->\\n<g id=\"edge1\" class=\"edge\"><title>marital&#45;status&#45;&gt;relationship</title>\\n<path fill=\"none\" stroke=\"black\" d=\"M144.401,-280.674C152.213,-272.115 160.42,-262.101 166.643,-252 193.744,-208.014 182.088,-187.703 209.643,-144 218.198,-130.432 230.448,-117.182 240.559,-107.324\"/>\\n<polygon fill=\"black\" stroke=\"black\" points=\"141.724,-278.41 137.405,-288.085 146.815,-283.215 141.724,-278.41\"/>\\n</g>\\n<!-- age -->\\n<g id=\"node3\" class=\"node\"><title>age</title>\\n<ellipse fill=\"none\" stroke=\"black\" cx=\"373.643\" cy=\"-378\" rx=\"27.0966\" ry=\"18\"/>\\n<text text-anchor=\"middle\" x=\"373.643\" y=\"-374.3\" font-family=\"Times,serif\" font-size=\"14.00\">age</text>\\n</g>\\n<!-- age&#45;&gt;marital&#45;status -->\\n<g id=\"edge14\" class=\"edge\"><title>age&#45;&gt;marital&#45;status</title>\\n<path fill=\"none\" stroke=\"black\" d=\"M348.826,-370.161C309.341,-359.279 231.17,-337.736 177.184,-322.858\"/>\\n<polygon fill=\"black\" stroke=\"black\" points=\"177.97,-319.444 167.4,-320.161 176.111,-326.192 177.97,-319.444\"/>\\n</g>\\n<!-- age&#45;&gt;relationship -->\\n<g id=\"edge4\" class=\"edge\"><title>age&#45;&gt;relationship</title>\\n<path fill=\"none\" stroke=\"black\" d=\"M345.32,-360.124C313.458,-339.299 263.447,-300.606 242.643,-252 221.754,-203.194 240.43,-138.699 251.636,-108.282\"/>\\n<polygon fill=\"black\" stroke=\"black\" points=\"343.471,-363.096 353.786,-365.518 347.233,-357.193 343.471,-363.096\"/>\\n</g>\\n<!-- gender -->\\n<g id=\"node4\" class=\"node\"><title>gender</title>\\n<ellipse fill=\"none\" stroke=\"black\" cx=\"647.643\" cy=\"-234\" rx=\"43.5923\" ry=\"18\"/>\\n<text text-anchor=\"middle\" x=\"647.643\" y=\"-230.3\" font-family=\"Times,serif\" font-size=\"14.00\">gender</text>\\n</g>\\n<!-- age&#45;&gt;gender -->\\n<g id=\"edge2\" class=\"edge\"><title>age&#45;&gt;gender</title>\\n<path fill=\"none\" stroke=\"black\" d=\"M411.322,-375.994C457.351,-373.035 535.735,-362.236 589.643,-324 615.367,-305.755 632.604,-272.174 641.214,-251.885\"/>\\n<polygon fill=\"black\" stroke=\"black\" points=\"410.974,-372.507 401.181,-376.551 411.358,-379.497 410.974,-372.507\"/>\\n</g>\\n<!-- hours&#45;per&#45;week -->\\n<g id=\"node5\" class=\"node\"><title>hours&#45;per&#45;week</title>\\n<ellipse fill=\"none\" stroke=\"black\" cx=\"498.643\" cy=\"-162\" rx=\"83.3857\" ry=\"18\"/>\\n<text text-anchor=\"middle\" x=\"498.643\" y=\"-158.3\" font-family=\"Times,serif\" font-size=\"14.00\">hours&#45;per&#45;week</text>\\n</g>\\n<!-- age&#45;&gt;hours&#45;per&#45;week -->\\n<g id=\"edge8\" class=\"edge\"><title>age&#45;&gt;hours&#45;per&#45;week</title>\\n<path fill=\"none\" stroke=\"black\" d=\"M408.098,-367.029C454.268,-351.408 533.136,-316.111 556.643,-252 562.151,-236.978 563.097,-230.641 556.643,-216 550.04,-201.022 536.884,-188.441 524.768,-179.3\"/>\\n<polygon fill=\"black\" stroke=\"black\" points=\"406.923,-363.73 398.497,-370.153 409.089,-370.387 406.923,-363.73\"/>\\n</g>\\n<!-- capital&#45;gain -->\\n<g id=\"node8\" class=\"node\"><title>capital&#45;gain</title>\\n<ellipse fill=\"none\" stroke=\"black\" cx=\"420.643\" cy=\"-306\" rx=\"65.7887\" ry=\"18\"/>\\n<text text-anchor=\"middle\" x=\"420.643\" y=\"-302.3\" font-family=\"Times,serif\" font-size=\"14.00\">capital&#45;gain</text>\\n</g>\\n<!-- age&#45;&gt;capital&#45;gain -->\\n<g id=\"edge7\" class=\"edge\"><title>age&#45;&gt;capital&#45;gain</title>\\n<path fill=\"none\" stroke=\"black\" d=\"M384.308,-361.116C390.031,-352.592 397.219,-341.886 403.689,-332.251\"/>\\n<polygon fill=\"black\" stroke=\"black\" points=\"406.696,-334.051 409.365,-323.797 400.885,-330.149 406.696,-334.051\"/>\\n</g>\\n<!-- income_&gt;50K -->\\n<g id=\"node9\" class=\"node\"><title>income_&gt;50K</title>\\n<ellipse fill=\"none\" stroke=\"black\" cx=\"326.643\" cy=\"-234\" rx=\"75.2868\" ry=\"18\"/>\\n<text text-anchor=\"middle\" x=\"326.643\" y=\"-230.3\" font-family=\"Times,serif\" font-size=\"14.00\">income_&gt;50K</text>\\n</g>\\n<!-- age&#45;&gt;income_&gt;50K -->\\n<g id=\"edge12\" class=\"edge\"><title>age&#45;&gt;income_&gt;50K</title>\\n<path fill=\"none\" stroke=\"black\" d=\"M363.598,-360.83C357.628,-350.6 350.33,-336.912 345.643,-324 338.332,-303.858 333.435,-280.079 330.446,-262.169\"/>\\n<polygon fill=\"black\" stroke=\"black\" points=\"333.876,-261.453 328.865,-252.119 326.961,-262.541 333.876,-261.453\"/>\\n</g>\\n<!-- gender&#45;&gt;relationship -->\\n<g id=\"edge17\" class=\"edge\"><title>gender&#45;&gt;relationship</title>\\n<path fill=\"none\" stroke=\"black\" d=\"M641.788,-216.126C633.701,-195.522 617.046,-161.288 590.643,-144 547.549,-115.783 406.063,-101.281 322.343,-94.9955\"/>\\n</g>\\n<!-- gender&#45;&gt;hours&#45;per&#45;week -->\\n<g id=\"edge13\" class=\"edge\"><title>gender&#45;&gt;hours&#45;per&#45;week</title>\\n<path fill=\"none\" stroke=\"black\" d=\"M619.966,-219.998C597.877,-209.62 566.552,-194.904 541.266,-183.024\"/>\\n<polygon fill=\"black\" stroke=\"black\" points=\"542.441,-179.709 531.902,-178.625 539.465,-186.045 542.441,-179.709\"/>\\n</g>\\n<!-- occupation -->\\n<g id=\"node6\" class=\"node\"><title>occupation</title>\\n<ellipse fill=\"none\" stroke=\"black\" cx=\"647.643\" cy=\"-90\" rx=\"61.99\" ry=\"18\"/>\\n<text text-anchor=\"middle\" x=\"647.643\" y=\"-86.3\" font-family=\"Times,serif\" font-size=\"14.00\">occupation</text>\\n</g>\\n<!-- gender&#45;&gt;occupation -->\\n<g id=\"edge5\" class=\"edge\"><title>gender&#45;&gt;occupation</title>\\n<path fill=\"none\" stroke=\"black\" d=\"M647.643,-215.871C647.643,-188.578 647.643,-135.52 647.643,-108.189\"/>\\n</g>\\n<!-- hours&#45;per&#45;week&#45;&gt;relationship -->\\n<g id=\"edge16\" class=\"edge\"><title>hours&#45;per&#45;week&#45;&gt;relationship</title>\\n<path fill=\"none\" stroke=\"black\" d=\"M441.538,-144.344C398.855,-131.895 341.375,-115.13 302.325,-103.741\"/>\\n<polygon fill=\"black\" stroke=\"black\" points=\"440.647,-147.73 451.227,-147.17 442.607,-141.01 440.647,-147.73\"/>\\n</g>\\n<!-- hours&#45;per&#45;week&#45;&gt;occupation -->\\n<g id=\"edge3\" class=\"edge\"><title>hours&#45;per&#45;week&#45;&gt;occupation</title>\\n<path fill=\"none\" stroke=\"black\" d=\"M540.957,-141.121C564.985,-129.832 594.544,-115.946 616.45,-105.654\"/>\\n<polygon fill=\"black\" stroke=\"black\" points=\"539.274,-138.045 531.711,-145.465 542.25,-144.38 539.274,-138.045\"/>\\n</g>\\n<!-- workclass -->\\n<g id=\"node10\" class=\"node\"><title>workclass</title>\\n<ellipse fill=\"none\" stroke=\"black\" cx=\"647.643\" cy=\"-18\" rx=\"57.6901\" ry=\"18\"/>\\n<text text-anchor=\"middle\" x=\"647.643\" y=\"-14.3\" font-family=\"Times,serif\" font-size=\"14.00\">workclass</text>\\n</g>\\n<!-- occupation&#45;&gt;workclass -->\\n<g id=\"edge10\" class=\"edge\"><title>occupation&#45;&gt;workclass</title>\\n<path fill=\"none\" stroke=\"black\" d=\"M647.643,-71.6966C647.643,-60.8463 647.643,-46.9167 647.643,-36.1043\"/>\\n</g>\\n<!-- race -->\\n<g id=\"node7\" class=\"node\"><title>race</title>\\n<ellipse fill=\"none\" stroke=\"black\" cx=\"102.643\" cy=\"-162\" rx=\"31.3957\" ry=\"18\"/>\\n<text text-anchor=\"middle\" x=\"102.643\" y=\"-158.3\" font-family=\"Times,serif\" font-size=\"14.00\">race</text>\\n</g>\\n<!-- race&#45;&gt;relationship -->\\n<g id=\"edge6\" class=\"edge\"><title>race&#45;&gt;relationship</title>\\n<path fill=\"none\" stroke=\"black\" d=\"M126.676,-150.216C153.256,-138.289 196.237,-119.003 225.886,-105.699\"/>\\n</g>\\n<!-- capital&#45;gain&#45;&gt;income_&gt;50K -->\\n<g id=\"edge9\" class=\"edge\"><title>capital&#45;gain&#45;&gt;income_&gt;50K</title>\\n<path fill=\"none\" stroke=\"black\" d=\"M390.681,-282.688C377.036,-272.527 361.175,-260.715 348.652,-251.39\"/>\\n<polygon fill=\"black\" stroke=\"black\" points=\"388.73,-285.599 398.841,-288.765 392.911,-279.985 388.73,-285.599\"/>\\n</g>\\n<!-- capital&#45;loss -->\\n<g id=\"node13\" class=\"node\"><title>capital&#45;loss</title>\\n<ellipse fill=\"none\" stroke=\"black\" cx=\"483.643\" cy=\"-234\" rx=\"63.8893\" ry=\"18\"/>\\n<text text-anchor=\"middle\" x=\"483.643\" y=\"-230.3\" font-family=\"Times,serif\" font-size=\"14.00\">capital&#45;loss</text>\\n</g>\\n<!-- capital&#45;gain&#45;&gt;capital&#45;loss -->\\n<g id=\"edge20\" class=\"edge\"><title>capital&#45;gain&#45;&gt;capital&#45;loss</title>\\n<path fill=\"none\" stroke=\"black\" d=\"M442.443,-280.778C450.992,-271.279 460.598,-260.606 468.382,-251.956\"/>\\n<polygon fill=\"black\" stroke=\"black\" points=\"439.661,-278.637 435.573,-288.411 444.864,-283.319 439.661,-278.637\"/>\\n</g>\\n<!-- income_&gt;50K&#45;&gt;relationship -->\\n<g id=\"edge11\" class=\"edge\"><title>income_&gt;50K&#45;&gt;relationship</title>\\n<path fill=\"none\" stroke=\"black\" d=\"M314.102,-206.812C300.337,-178.066 278.633,-132.745 266.875,-108.189\"/>\\n<polygon fill=\"black\" stroke=\"black\" points=\"310.965,-208.364 318.441,-215.871 317.278,-205.341 310.965,-208.364\"/>\\n</g>\\n<!-- native&#45;country -->\\n<g id=\"node11\" class=\"node\"><title>native&#45;country</title>\\n<ellipse fill=\"none\" stroke=\"black\" cx=\"78.643\" cy=\"-234\" rx=\"78.7863\" ry=\"18\"/>\\n<text text-anchor=\"middle\" x=\"78.643\" y=\"-230.3\" font-family=\"Times,serif\" font-size=\"14.00\">native&#45;country</text>\\n</g>\\n<!-- native&#45;country&#45;&gt;race -->\\n<g id=\"edge15\" class=\"edge\"><title>native&#45;country&#45;&gt;race</title>\\n<path fill=\"none\" stroke=\"black\" d=\"M84.5756,-215.697C88.2957,-204.846 93.0716,-190.917 96.7787,-180.104\"/>\\n</g>\\n<!-- education -->\\n<g id=\"node12\" class=\"node\"><title>education</title>\\n<ellipse fill=\"none\" stroke=\"black\" cx=\"732.643\" cy=\"-162\" rx=\"56.59\" ry=\"18\"/>\\n<text text-anchor=\"middle\" x=\"732.643\" y=\"-158.3\" font-family=\"Times,serif\" font-size=\"14.00\">education</text>\\n</g>\\n<!-- education&#45;&gt;occupation -->\\n<g id=\"edge18\" class=\"edge\"><title>education&#45;&gt;occupation</title>\\n<path fill=\"none\" stroke=\"black\" d=\"M712.929,-144.765C699.197,-133.456 680.959,-118.437 667.25,-107.147\"/>\\n</g>\\n<!-- capital&#45;loss&#45;&gt;hours&#45;per&#45;week -->\\n<g id=\"edge19\" class=\"edge\"><title>capital&#45;loss&#45;&gt;hours&#45;per&#45;week</title>\\n<path fill=\"none\" stroke=\"black\" d=\"M487.351,-215.697C489.004,-207.983 490.99,-198.712 492.833,-190.112\"/>\\n<polygon fill=\"black\" stroke=\"black\" points=\"496.305,-190.616 494.978,-180.104 489.46,-189.149 496.305,-190.616\"/>\\n</g>\\n</g>\\n</svg>\\n'</div>"
      ],
      "text/plain": [
       "<IPython.core.display.HTML object>"
      ]
     },
     "execution_count": 41,
     "metadata": {},
     "output_type": "execute_result"
    }
   ],
   "source": [
    "from IPython.display import HTML\n",
    "\n",
    "# Your code to generate the SVG and store it in svg_str\n",
    "\n",
    "# Define the desired width and height for the SVG\n",
    "width = 400  # Change to your desired width\n",
    "height = 300  # Change to your desired height\n",
    "\n",
    "# Create an HTML string with CSS to set the width and height\n",
    "html_str = '<div style=\"width:{}px; height:{}px\">{}</div>'.format(width, height, svg_str)\n",
    "\n",
    "# Display the HTML string in the notebook\n",
    "HTML(html_str)"
   ]
  },
  {
   "cell_type": "markdown",
   "metadata": {},
   "source": [
    "# Hybrid GFCI"
   ]
  },
  {
   "cell_type": "code",
   "execution_count": 42,
   "metadata": {},
   "outputs": [],
   "source": [
    "alpha = 0.05\n",
    "discretize = False\n",
    "indTest = javabridge.JClassWrapper('edu.cmu.tetrad.search.IndTestConditionalGaussianLRT')(tetradData, alpha, discretize)"
   ]
  },
  {
   "cell_type": "code",
   "execution_count": 43,
   "metadata": {},
   "outputs": [],
   "source": [
    "penaltydiscount = 2 # set to 2 if variable# <= 50 otherwise set it to 4\n",
    "structurePrior = 1.0\n",
    "score = javabridge.JClassWrapper('edu.cmu.tetrad.search.ConditionalGaussianScore')(tetradData, structurePrior, discretize)\n",
    "score.setPenaltyDiscount(penaltydiscount) "
   ]
  },
  {
   "cell_type": "code",
   "execution_count": 44,
   "metadata": {},
   "outputs": [],
   "source": [
    "gfci = javabridge.JClassWrapper('edu.cmu.tetrad.search.GFci')(indTest, score)"
   ]
  },
  {
   "cell_type": "code",
   "execution_count": 45,
   "metadata": {},
   "outputs": [],
   "source": [
    "gfci.setMaxDegree(3)\n",
    "gfci.setMaxPathLength(-1)\n",
    "gfci.setCompleteRuleSetUsed(False)\n",
    "gfci.setFaithfulnessAssumed(True)\n",
    "gfci.setVerbose(True)"
   ]
  },
  {
   "cell_type": "code",
   "execution_count": 46,
   "metadata": {},
   "outputs": [
    {
     "data": {
      "text/plain": [
       "Instance of edu.cmu.tetrad.graph.EdgeListGraphSingleConnections: Graph Nodes:\n",
       "age;workclass;education;marital-status;occupation;relationship;race;gender;capital-gain;capital-loss;hours-per-week;native-country;income_>50K\n",
       "\n",
       "Graph Edges:\n",
       "1. hours-per-week --> age dd nl\n",
       "2. race --> native-country dd nl\n",
       "3. capital-gain o-o income_>50K\n",
       "4. capital-gain o-> race\n",
       "5. education o-o occupation\n",
       "6. gender o-> race\n",
       "7. gender o-o relationship\n",
       "8. income_>50K o-> capital-loss\n",
       "9. income_>50K o-o relationship\n",
       "10. marital-status o-> age\n",
       "11. marital-status o-> hours-per-week\n",
       "12. occupation o-o gender\n",
       "13. relationship o-o marital-status\n",
       "14. workclass o-> capital-loss\n",
       "15. workclass o-> hours-per-week\n",
       "16. workclass o-o occupation\n",
       "\n",
       "Graph Attributes:\n",
       "BIC: -401581.857124\n"
      ]
     },
     "execution_count": 46,
     "metadata": {},
     "output_type": "execute_result"
    }
   ],
   "source": [
    "tetradGraph = gfci.search()\n",
    "tetradGraph"
   ]
  },
  {
   "cell_type": "code",
   "execution_count": 47,
   "metadata": {},
   "outputs": [
    {
     "data": {
      "text/plain": [
       "'Graph Nodes:\\nage;workclass;education;marital-status;occupation;relationship;race;gender;capital-gain;capital-loss;hours-per-week;native-country;income_>50K\\n\\nGraph Edges:\\n1. hours-per-week --> age dd nl\\n2. race --> native-country dd nl\\n3. capital-gain o-o income_>50K\\n4. capital-gain o-> race\\n5. education o-o occupation\\n6. gender o-> race\\n7. gender o-o relationship\\n8. income_>50K o-> capital-loss\\n9. income_>50K o-o relationship\\n10. marital-status o-> age\\n11. marital-status o-> hours-per-week\\n12. occupation o-o gender\\n13. relationship o-o marital-status\\n14. workclass o-> capital-loss\\n15. workclass o-> hours-per-week\\n16. workclass o-o occupation\\n\\nGraph Attributes:\\nBIC: -401581.857124\\n\\n'"
      ]
     },
     "execution_count": 47,
     "metadata": {},
     "output_type": "execute_result"
    }
   ],
   "source": [
    "tetradGraph.toString()"
   ]
  },
  {
   "cell_type": "code",
   "execution_count": 48,
   "metadata": {},
   "outputs": [
    {
     "data": {
      "text/plain": [
       "Instance of java.util.ArrayList: [age, workclass, education, marital-status, occupation, relationship, race, gender, capital-gain, capital-loss, hours-per-week, native-country, income_>50K]"
      ]
     },
     "execution_count": 48,
     "metadata": {},
     "output_type": "execute_result"
    }
   ],
   "source": [
    "tetradGraph.getNodeNames()"
   ]
  },
  {
   "cell_type": "code",
   "execution_count": 49,
   "metadata": {},
   "outputs": [
    {
     "data": {
      "text/plain": [
       "Instance of java.util.HashSet: [relationship o-o marital-status, workclass o-> hours-per-week, occupation o-o gender, hours-per-week --> age dd nl, capital-gain o-o income_>50K, workclass o-> capital-loss, workclass o-o occupation, income_>50K o-o relationship, income_>50K o-> capital-loss, marital-status o-> hours-per-week, marital-status o-> age, race --> native-country dd nl, gender o-o relationship, capital-gain o-> race, education o-o occupation, gender o-> race]"
      ]
     },
     "execution_count": 49,
     "metadata": {},
     "output_type": "execute_result"
    }
   ],
   "source": [
    "tetradGraph.getEdges()"
   ]
  },
  {
   "cell_type": "code",
   "execution_count": 50,
   "metadata": {
    "scrolled": false
   },
   "outputs": [
    {
     "data": {
      "image/svg+xml": [
       "<svg height=\"260pt\" viewBox=\"0.00 0.00 893.59 260.00\" width=\"894pt\" xmlns=\"http://www.w3.org/2000/svg\" xmlns:xlink=\"http://www.w3.org/1999/xlink\">\n",
       "<g class=\"graph\" id=\"graph0\" transform=\"scale(1 1) rotate(0) translate(4 256)\">\n",
       "<title>g</title>\n",
       "<polygon fill=\"white\" points=\"-4,4 -4,-256 889.588,-256 889.588,4 -4,4\" stroke=\"none\"/>\n",
       "<!-- marital&#45;status -->\n",
       "<g class=\"node\" id=\"node1\"><title>marital-status</title>\n",
       "<ellipse cx=\"809.545\" cy=\"-90\" fill=\"none\" rx=\"76.0865\" ry=\"18\" stroke=\"black\"/>\n",
       "<text font-family=\"Times,serif\" font-size=\"14.00\" text-anchor=\"middle\" x=\"809.545\" y=\"-86.3\">marital-status</text>\n",
       "</g>\n",
       "<!-- relationship -->\n",
       "<g class=\"node\" id=\"node2\"><title>relationship</title>\n",
       "<ellipse cx=\"612.545\" cy=\"-18\" fill=\"none\" rx=\"66.0889\" ry=\"18\" stroke=\"black\"/>\n",
       "<text font-family=\"Times,serif\" font-size=\"14.00\" text-anchor=\"middle\" x=\"612.545\" y=\"-14.3\">relationship</text>\n",
       "</g>\n",
       "<!-- marital&#45;status&#45;&gt;relationship -->\n",
       "<g class=\"edge\" id=\"edge1\"><title>marital-status-&gt;relationship</title>\n",
       "<path d=\"M761.276,-71.8484C730.039,-60.749 689.599,-46.3797 658.775,-35.4268\" fill=\"none\" stroke=\"black\"/>\n",
       "<ellipse cx=\"765.435\" cy=\"-73.3262\" fill=\"none\" rx=\"4.00001\" ry=\"4.00001\" stroke=\"black\"/>\n",
       "<ellipse cx=\"654.926\" cy=\"-34.0592\" fill=\"none\" rx=\"4.00001\" ry=\"4.00001\" stroke=\"black\"/>\n",
       "</g>\n",
       "<!-- hours&#45;per&#45;week -->\n",
       "<g class=\"node\" id=\"node3\"><title>hours-per-week</title>\n",
       "<ellipse cx=\"788.545\" cy=\"-162\" fill=\"none\" rx=\"83.3857\" ry=\"18\" stroke=\"black\"/>\n",
       "<text font-family=\"Times,serif\" font-size=\"14.00\" text-anchor=\"middle\" x=\"788.545\" y=\"-158.3\">hours-per-week</text>\n",
       "</g>\n",
       "<!-- hours&#45;per&#45;week&#45;&gt;marital&#45;status -->\n",
       "<g class=\"edge\" id=\"edge10\"><title>hours-per-week-&gt;marital-status</title>\n",
       "<path d=\"M796.66,-133.949C798.453,-127.974 800.343,-121.672 802.108,-115.792\" fill=\"none\" stroke=\"black\"/>\n",
       "<polygon fill=\"black\" points=\"793.257,-133.113 793.736,-143.697 799.962,-135.124 793.257,-133.113\" stroke=\"black\"/>\n",
       "<ellipse cx=\"803.264\" cy=\"-111.936\" fill=\"none\" rx=\"4.00001\" ry=\"4.00001\" stroke=\"black\"/>\n",
       "</g>\n",
       "<!-- workclass -->\n",
       "<g class=\"node\" id=\"node4\"><title>workclass</title>\n",
       "<ellipse cx=\"470.545\" cy=\"-18\" fill=\"none\" rx=\"57.6901\" ry=\"18\" stroke=\"black\"/>\n",
       "<text font-family=\"Times,serif\" font-size=\"14.00\" text-anchor=\"middle\" x=\"470.545\" y=\"-14.3\">workclass</text>\n",
       "</g>\n",
       "<!-- hours&#45;per&#45;week&#45;&gt;workclass -->\n",
       "<g class=\"edge\" id=\"edge2\"><title>hours-per-week-&gt;workclass</title>\n",
       "<path d=\"M759.979,-138.027C748.788,-128.851 735.928,-118.085 724.545,-108 707.132,-92.5722 706.987,-83.107 686.545,-72 626.683,-39.4741 603.675,-52.3779 537.545,-36 532.38,-34.7207 526.993,-33.3745 521.618,-32.023\" fill=\"none\" stroke=\"black\"/>\n",
       "<polygon fill=\"black\" points=\"757.826,-140.788 767.787,-144.395 762.25,-135.363 757.826,-140.788\" stroke=\"black\"/>\n",
       "<ellipse cx=\"517.655\" cy=\"-31.0241\" fill=\"none\" rx=\"4.00001\" ry=\"4.00001\" stroke=\"black\"/>\n",
       "</g>\n",
       "<!-- gender -->\n",
       "<g class=\"node\" id=\"node5\"><title>gender</title>\n",
       "<ellipse cx=\"174.545\" cy=\"-162\" fill=\"none\" rx=\"43.5923\" ry=\"18\" stroke=\"black\"/>\n",
       "<text font-family=\"Times,serif\" font-size=\"14.00\" text-anchor=\"middle\" x=\"174.545\" y=\"-158.3\">gender</text>\n",
       "</g>\n",
       "<!-- gender&#45;&gt;relationship -->\n",
       "<g class=\"edge\" id=\"edge13\"><title>gender-&gt;relationship</title>\n",
       "<path d=\"M201.206,-140.789C213.67,-131.119 228.586,-119.225 241.545,-108 259.13,-92.7682 258.582,-82.088 279.545,-72 383.872,-21.7963 423.654,-56.8153 537.545,-36 543.732,-34.8692 550.182,-33.5789 556.588,-32.2261\" fill=\"none\" stroke=\"black\"/>\n",
       "<ellipse cx=\"197.729\" cy=\"-143.471\" fill=\"none\" rx=\"4.00002\" ry=\"4.00002\" stroke=\"black\"/>\n",
       "<ellipse cx=\"560.746\" cy=\"-31.3296\" fill=\"none\" rx=\"4.00001\" ry=\"4.00001\" stroke=\"black\"/>\n",
       "</g>\n",
       "<!-- occupation -->\n",
       "<g class=\"node\" id=\"node6\"><title>occupation</title>\n",
       "<ellipse cx=\"170.545\" cy=\"-90\" fill=\"none\" rx=\"61.99\" ry=\"18\" stroke=\"black\"/>\n",
       "<text font-family=\"Times,serif\" font-size=\"14.00\" text-anchor=\"middle\" x=\"170.545\" y=\"-86.3\">occupation</text>\n",
       "</g>\n",
       "<!-- gender&#45;&gt;occupation -->\n",
       "<g class=\"edge\" id=\"edge3\"><title>gender-&gt;occupation</title>\n",
       "<path d=\"M173.096,-135.64C172.736,-129.348 172.351,-122.605 171.992,-116.316\" fill=\"none\" stroke=\"black\"/>\n",
       "<ellipse cx=\"173.328\" cy=\"-139.703\" fill=\"none\" rx=\"4\" ry=\"4\" stroke=\"black\"/>\n",
       "<ellipse cx=\"171.751\" cy=\"-112.098\" fill=\"none\" rx=\"4\" ry=\"4\" stroke=\"black\"/>\n",
       "</g>\n",
       "<!-- race -->\n",
       "<g class=\"node\" id=\"node12\"><title>race</title>\n",
       "<ellipse cx=\"319.545\" cy=\"-90\" fill=\"none\" rx=\"31.3957\" ry=\"18\" stroke=\"black\"/>\n",
       "<text font-family=\"Times,serif\" font-size=\"14.00\" text-anchor=\"middle\" x=\"319.545\" y=\"-86.3\">race</text>\n",
       "</g>\n",
       "<!-- gender&#45;&gt;race -->\n",
       "<g class=\"edge\" id=\"edge16\"><title>gender-&gt;race</title>\n",
       "<path d=\"M209.135,-144.301C232.797,-132.878 263.955,-117.837 287.136,-106.646\" fill=\"none\" stroke=\"black\"/>\n",
       "<ellipse cx=\"205.421\" cy=\"-146.095\" fill=\"none\" rx=\"4.00002\" ry=\"4.00002\" stroke=\"black\"/>\n",
       "<polygon fill=\"black\" points=\"288.739,-109.758 296.223,-102.259 285.696,-103.454 288.739,-109.758\" stroke=\"black\"/>\n",
       "</g>\n",
       "<!-- occupation&#45;&gt;workclass -->\n",
       "<g class=\"edge\" id=\"edge7\"><title>occupation-&gt;workclass</title>\n",
       "<path d=\"M224.993,-76.2955C279.745,-63.52 363.597,-43.9545 417.753,-31.318\" fill=\"none\" stroke=\"black\"/>\n",
       "<ellipse cx=\"220.986\" cy=\"-77.2303\" fill=\"none\" rx=\"4.00001\" ry=\"4.00001\" stroke=\"black\"/>\n",
       "<ellipse cx=\"421.956\" cy=\"-30.3376\" fill=\"none\" rx=\"4.00001\" ry=\"4.00001\" stroke=\"black\"/>\n",
       "</g>\n",
       "<!-- age -->\n",
       "<g class=\"node\" id=\"node7\"><title>age</title>\n",
       "<ellipse cx=\"843.545\" cy=\"-234\" fill=\"none\" rx=\"27.0966\" ry=\"18\" stroke=\"black\"/>\n",
       "<text font-family=\"Times,serif\" font-size=\"14.00\" text-anchor=\"middle\" x=\"843.545\" y=\"-230.3\">age</text>\n",
       "</g>\n",
       "<!-- age&#45;&gt;marital&#45;status -->\n",
       "<g class=\"edge\" id=\"edge11\"><title>age-&gt;marital-status</title>\n",
       "<path d=\"M864.207,-209.957C877.904,-191.749 891.502,-165.853 880.545,-144 873.681,-130.31 861.416,-119.252 848.991,-110.849\" fill=\"none\" stroke=\"black\"/>\n",
       "<polygon fill=\"black\" points=\"861.104,-208.233 857.583,-218.226 866.567,-212.609 861.104,-208.233\" stroke=\"black\"/>\n",
       "<ellipse cx=\"845.476\" cy=\"-108.606\" fill=\"none\" rx=\"4.00002\" ry=\"4.00002\" stroke=\"black\"/>\n",
       "</g>\n",
       "<!-- age&#45;&gt;hours&#45;per&#45;week -->\n",
       "<g class=\"edge\" id=\"edge4\"><title>age-&gt;hours-per-week</title>\n",
       "<path d=\"M825.273,-209.745C817.672,-200.07 809.006,-189.041 802.002,-180.127\" fill=\"none\" stroke=\"black\"/>\n",
       "<polygon fill=\"black\" points=\"822.68,-212.11 831.611,-217.811 828.185,-207.785 822.68,-212.11\" stroke=\"black\"/>\n",
       "</g>\n",
       "<!-- capital&#45;gain -->\n",
       "<g class=\"node\" id=\"node8\"><title>capital-gain</title>\n",
       "<ellipse cx=\"476.545\" cy=\"-162\" fill=\"none\" rx=\"65.7887\" ry=\"18\" stroke=\"black\"/>\n",
       "<text font-family=\"Times,serif\" font-size=\"14.00\" text-anchor=\"middle\" x=\"476.545\" y=\"-158.3\">capital-gain</text>\n",
       "</g>\n",
       "<!-- income_&gt;50K -->\n",
       "<g class=\"node\" id=\"node9\"><title>income_&gt;50K</title>\n",
       "<ellipse cx=\"602.545\" cy=\"-90\" fill=\"none\" rx=\"75.2868\" ry=\"18\" stroke=\"black\"/>\n",
       "<text font-family=\"Times,serif\" font-size=\"14.00\" text-anchor=\"middle\" x=\"602.545\" y=\"-86.3\">income_&gt;50K</text>\n",
       "</g>\n",
       "<!-- capital&#45;gain&#45;&gt;income_&gt;50K -->\n",
       "<g class=\"edge\" id=\"edge5\"><title>capital-gain-&gt;income_&gt;50K</title>\n",
       "<path d=\"M511.246,-141.722C528.538,-132.115 549.421,-120.513 566.849,-110.831\" fill=\"none\" stroke=\"black\"/>\n",
       "<ellipse cx=\"507.693\" cy=\"-143.696\" fill=\"none\" rx=\"4.00002\" ry=\"4.00002\" stroke=\"black\"/>\n",
       "<ellipse cx=\"570.589\" cy=\"-108.754\" fill=\"none\" rx=\"4.00002\" ry=\"4.00002\" stroke=\"black\"/>\n",
       "</g>\n",
       "<!-- capital&#45;gain&#45;&gt;race -->\n",
       "<g class=\"edge\" id=\"edge14\"><title>capital-gain-&gt;race</title>\n",
       "<path d=\"M436.031,-142.936C410.213,-131.425 377.171,-116.693 352.877,-105.862\" fill=\"none\" stroke=\"black\"/>\n",
       "<ellipse cx=\"439.979\" cy=\"-144.697\" fill=\"none\" rx=\"4.00002\" ry=\"4.00002\" stroke=\"black\"/>\n",
       "<polygon fill=\"black\" points=\"354.261,-102.647 343.703,-101.771 351.411,-109.04 354.261,-102.647\" stroke=\"black\"/>\n",
       "</g>\n",
       "<!-- income_&gt;50K&#45;&gt;relationship -->\n",
       "<g class=\"edge\" id=\"edge8\"><title>income_&gt;50K-&gt;relationship</title>\n",
       "<path d=\"M606.168,-63.6398C607.067,-57.348 608.03,-50.6053 608.928,-44.3156\" fill=\"none\" stroke=\"black\"/>\n",
       "<ellipse cx=\"605.583\" cy=\"-67.7368\" fill=\"none\" rx=\"4.00001\" ry=\"4.00001\" stroke=\"black\"/>\n",
       "<ellipse cx=\"609.536\" cy=\"-40.0641\" fill=\"none\" rx=\"4.00001\" ry=\"4.00001\" stroke=\"black\"/>\n",
       "</g>\n",
       "<!-- capital&#45;loss -->\n",
       "<g class=\"node\" id=\"node10\"><title>capital-loss</title>\n",
       "<ellipse cx=\"623.545\" cy=\"-162\" fill=\"none\" rx=\"63.8893\" ry=\"18\" stroke=\"black\"/>\n",
       "<text font-family=\"Times,serif\" font-size=\"14.00\" text-anchor=\"middle\" x=\"623.545\" y=\"-158.3\">capital-loss</text>\n",
       "</g>\n",
       "<!-- capital&#45;loss&#45;&gt;workclass -->\n",
       "<g class=\"edge\" id=\"edge6\"><title>capital-loss-&gt;workclass</title>\n",
       "<path d=\"M574.837,-143.828C555.617,-135.279 534.391,-123.421 518.545,-108 499.968,-89.9213 486.853,-63.0892 479.078,-43.6157\" fill=\"none\" stroke=\"black\"/>\n",
       "<polygon fill=\"black\" points=\"573.507,-147.066 584.079,-147.761 576.248,-140.625 573.507,-147.066\" stroke=\"black\"/>\n",
       "<ellipse cx=\"477.601\" cy=\"-39.7627\" fill=\"none\" rx=\"4.00001\" ry=\"4.00001\" stroke=\"black\"/>\n",
       "</g>\n",
       "<!-- capital&#45;loss&#45;&gt;income_&gt;50K -->\n",
       "<g class=\"edge\" id=\"edge9\"><title>capital-loss-&gt;income_&gt;50K</title>\n",
       "<path d=\"M615.532,-134.29C613.733,-128.293 611.83,-121.951 610.053,-116.026\" fill=\"none\" stroke=\"black\"/>\n",
       "<polygon fill=\"black\" points=\"612.236,-135.482 618.461,-144.055 618.94,-133.471 612.236,-135.482\" stroke=\"black\"/>\n",
       "<ellipse cx=\"608.877\" cy=\"-112.107\" fill=\"none\" rx=\"4.00001\" ry=\"4.00001\" stroke=\"black\"/>\n",
       "</g>\n",
       "<!-- native&#45;country -->\n",
       "<g class=\"node\" id=\"node11\"><title>native-country</title>\n",
       "<ellipse cx=\"314.545\" cy=\"-162\" fill=\"none\" rx=\"78.7863\" ry=\"18\" stroke=\"black\"/>\n",
       "<text font-family=\"Times,serif\" font-size=\"14.00\" text-anchor=\"middle\" x=\"314.545\" y=\"-158.3\">native-country</text>\n",
       "</g>\n",
       "<!-- native&#45;country&#45;&gt;race -->\n",
       "<g class=\"edge\" id=\"edge12\"><title>native-country-&gt;race</title>\n",
       "<path d=\"M316.497,-133.665C317.113,-125.054 317.774,-115.791 318.323,-108.104\" fill=\"none\" stroke=\"black\"/>\n",
       "<polygon fill=\"black\" points=\"313.002,-133.473 315.781,-143.697 319.985,-133.971 313.002,-133.473\" stroke=\"black\"/>\n",
       "</g>\n",
       "<!-- education -->\n",
       "<g class=\"node\" id=\"node13\"><title>education</title>\n",
       "<ellipse cx=\"56.545\" cy=\"-162\" fill=\"none\" rx=\"56.59\" ry=\"18\" stroke=\"black\"/>\n",
       "<text font-family=\"Times,serif\" font-size=\"14.00\" text-anchor=\"middle\" x=\"56.545\" y=\"-158.3\">education</text>\n",
       "</g>\n",
       "<!-- education&#45;&gt;occupation -->\n",
       "<g class=\"edge\" id=\"edge15\"><title>education-&gt;occupation</title>\n",
       "<path d=\"M88.1788,-141.576C103.732,-132.026 122.451,-120.532 138.11,-110.916\" fill=\"none\" stroke=\"black\"/>\n",
       "<ellipse cx=\"84.69\" cy=\"-143.718\" fill=\"none\" rx=\"4.00002\" ry=\"4.00002\" stroke=\"black\"/>\n",
       "<ellipse cx=\"141.659\" cy=\"-108.737\" fill=\"none\" rx=\"4.00002\" ry=\"4.00002\" stroke=\"black\"/>\n",
       "</g>\n",
       "</g>\n",
       "</svg>"
      ],
      "text/plain": [
       "<IPython.core.display.SVG object>"
      ]
     },
     "execution_count": 50,
     "metadata": {},
     "output_type": "execute_result"
    }
   ],
   "source": [
    "dot_str = javabridge.static_call('edu/cmu/tetrad/graph/GraphUtils',\n",
    "                                   'graphToDot',\n",
    "                                   '(Ledu/cmu/tetrad/graph/Graph;)Ljava/lang/String;', \n",
    "                                   tetradGraph)\n",
    "graphs = pydot.graph_from_dot_data(dot_str)\n",
    "svg_str = graphs[0].create_svg()\n",
    "SVG(svg_str)"
   ]
  },
  {
   "cell_type": "code",
   "execution_count": 51,
   "metadata": {
    "scrolled": true
   },
   "outputs": [
    {
     "data": {
      "text/html": [
       "<div style=\"width:400px; height:300px\">b'<?xml version=\"1.0\" encoding=\"UTF-8\" standalone=\"no\"?>\\n<!DOCTYPE svg PUBLIC \"-//W3C//DTD SVG 1.1//EN\"\\n \"http://www.w3.org/Graphics/SVG/1.1/DTD/svg11.dtd\">\\n<!-- Generated by graphviz version 2.38.0 (20140413.2041)\\n -->\\n<!-- Title: g Pages: 1 -->\\n<svg width=\"894pt\" height=\"260pt\"\\n viewBox=\"0.00 0.00 893.59 260.00\" xmlns=\"http://www.w3.org/2000/svg\" xmlns:xlink=\"http://www.w3.org/1999/xlink\">\\n<g id=\"graph0\" class=\"graph\" transform=\"scale(1 1) rotate(0) translate(4 256)\">\\n<title>g</title>\\n<polygon fill=\"white\" stroke=\"none\" points=\"-4,4 -4,-256 889.588,-256 889.588,4 -4,4\"/>\\n<!-- marital&#45;status -->\\n<g id=\"node1\" class=\"node\"><title>marital&#45;status</title>\\n<ellipse fill=\"none\" stroke=\"black\" cx=\"809.545\" cy=\"-90\" rx=\"76.0865\" ry=\"18\"/>\\n<text text-anchor=\"middle\" x=\"809.545\" y=\"-86.3\" font-family=\"Times,serif\" font-size=\"14.00\">marital&#45;status</text>\\n</g>\\n<!-- relationship -->\\n<g id=\"node2\" class=\"node\"><title>relationship</title>\\n<ellipse fill=\"none\" stroke=\"black\" cx=\"612.545\" cy=\"-18\" rx=\"66.0889\" ry=\"18\"/>\\n<text text-anchor=\"middle\" x=\"612.545\" y=\"-14.3\" font-family=\"Times,serif\" font-size=\"14.00\">relationship</text>\\n</g>\\n<!-- marital&#45;status&#45;&gt;relationship -->\\n<g id=\"edge1\" class=\"edge\"><title>marital&#45;status&#45;&gt;relationship</title>\\n<path fill=\"none\" stroke=\"black\" d=\"M761.276,-71.8484C730.039,-60.749 689.599,-46.3797 658.775,-35.4268\"/>\\n<ellipse fill=\"none\" stroke=\"black\" cx=\"765.435\" cy=\"-73.3262\" rx=\"4.00001\" ry=\"4.00001\"/>\\n<ellipse fill=\"none\" stroke=\"black\" cx=\"654.926\" cy=\"-34.0592\" rx=\"4.00001\" ry=\"4.00001\"/>\\n</g>\\n<!-- hours&#45;per&#45;week -->\\n<g id=\"node3\" class=\"node\"><title>hours&#45;per&#45;week</title>\\n<ellipse fill=\"none\" stroke=\"black\" cx=\"788.545\" cy=\"-162\" rx=\"83.3857\" ry=\"18\"/>\\n<text text-anchor=\"middle\" x=\"788.545\" y=\"-158.3\" font-family=\"Times,serif\" font-size=\"14.00\">hours&#45;per&#45;week</text>\\n</g>\\n<!-- hours&#45;per&#45;week&#45;&gt;marital&#45;status -->\\n<g id=\"edge10\" class=\"edge\"><title>hours&#45;per&#45;week&#45;&gt;marital&#45;status</title>\\n<path fill=\"none\" stroke=\"black\" d=\"M796.66,-133.949C798.453,-127.974 800.343,-121.672 802.108,-115.792\"/>\\n<polygon fill=\"black\" stroke=\"black\" points=\"793.257,-133.113 793.736,-143.697 799.962,-135.124 793.257,-133.113\"/>\\n<ellipse fill=\"none\" stroke=\"black\" cx=\"803.264\" cy=\"-111.936\" rx=\"4.00001\" ry=\"4.00001\"/>\\n</g>\\n<!-- workclass -->\\n<g id=\"node4\" class=\"node\"><title>workclass</title>\\n<ellipse fill=\"none\" stroke=\"black\" cx=\"470.545\" cy=\"-18\" rx=\"57.6901\" ry=\"18\"/>\\n<text text-anchor=\"middle\" x=\"470.545\" y=\"-14.3\" font-family=\"Times,serif\" font-size=\"14.00\">workclass</text>\\n</g>\\n<!-- hours&#45;per&#45;week&#45;&gt;workclass -->\\n<g id=\"edge2\" class=\"edge\"><title>hours&#45;per&#45;week&#45;&gt;workclass</title>\\n<path fill=\"none\" stroke=\"black\" d=\"M759.979,-138.027C748.788,-128.851 735.928,-118.085 724.545,-108 707.132,-92.5722 706.987,-83.107 686.545,-72 626.683,-39.4741 603.675,-52.3779 537.545,-36 532.38,-34.7207 526.993,-33.3745 521.618,-32.023\"/>\\n<polygon fill=\"black\" stroke=\"black\" points=\"757.826,-140.788 767.787,-144.395 762.25,-135.363 757.826,-140.788\"/>\\n<ellipse fill=\"none\" stroke=\"black\" cx=\"517.655\" cy=\"-31.0241\" rx=\"4.00001\" ry=\"4.00001\"/>\\n</g>\\n<!-- gender -->\\n<g id=\"node5\" class=\"node\"><title>gender</title>\\n<ellipse fill=\"none\" stroke=\"black\" cx=\"174.545\" cy=\"-162\" rx=\"43.5923\" ry=\"18\"/>\\n<text text-anchor=\"middle\" x=\"174.545\" y=\"-158.3\" font-family=\"Times,serif\" font-size=\"14.00\">gender</text>\\n</g>\\n<!-- gender&#45;&gt;relationship -->\\n<g id=\"edge13\" class=\"edge\"><title>gender&#45;&gt;relationship</title>\\n<path fill=\"none\" stroke=\"black\" d=\"M201.206,-140.789C213.67,-131.119 228.586,-119.225 241.545,-108 259.13,-92.7682 258.582,-82.088 279.545,-72 383.872,-21.7963 423.654,-56.8153 537.545,-36 543.732,-34.8692 550.182,-33.5789 556.588,-32.2261\"/>\\n<ellipse fill=\"none\" stroke=\"black\" cx=\"197.729\" cy=\"-143.471\" rx=\"4.00002\" ry=\"4.00002\"/>\\n<ellipse fill=\"none\" stroke=\"black\" cx=\"560.746\" cy=\"-31.3296\" rx=\"4.00001\" ry=\"4.00001\"/>\\n</g>\\n<!-- occupation -->\\n<g id=\"node6\" class=\"node\"><title>occupation</title>\\n<ellipse fill=\"none\" stroke=\"black\" cx=\"170.545\" cy=\"-90\" rx=\"61.99\" ry=\"18\"/>\\n<text text-anchor=\"middle\" x=\"170.545\" y=\"-86.3\" font-family=\"Times,serif\" font-size=\"14.00\">occupation</text>\\n</g>\\n<!-- gender&#45;&gt;occupation -->\\n<g id=\"edge3\" class=\"edge\"><title>gender&#45;&gt;occupation</title>\\n<path fill=\"none\" stroke=\"black\" d=\"M173.096,-135.64C172.736,-129.348 172.351,-122.605 171.992,-116.316\"/>\\n<ellipse fill=\"none\" stroke=\"black\" cx=\"173.328\" cy=\"-139.703\" rx=\"4\" ry=\"4\"/>\\n<ellipse fill=\"none\" stroke=\"black\" cx=\"171.751\" cy=\"-112.098\" rx=\"4\" ry=\"4\"/>\\n</g>\\n<!-- race -->\\n<g id=\"node12\" class=\"node\"><title>race</title>\\n<ellipse fill=\"none\" stroke=\"black\" cx=\"319.545\" cy=\"-90\" rx=\"31.3957\" ry=\"18\"/>\\n<text text-anchor=\"middle\" x=\"319.545\" y=\"-86.3\" font-family=\"Times,serif\" font-size=\"14.00\">race</text>\\n</g>\\n<!-- gender&#45;&gt;race -->\\n<g id=\"edge16\" class=\"edge\"><title>gender&#45;&gt;race</title>\\n<path fill=\"none\" stroke=\"black\" d=\"M209.135,-144.301C232.797,-132.878 263.955,-117.837 287.136,-106.646\"/>\\n<ellipse fill=\"none\" stroke=\"black\" cx=\"205.421\" cy=\"-146.095\" rx=\"4.00002\" ry=\"4.00002\"/>\\n<polygon fill=\"black\" stroke=\"black\" points=\"288.739,-109.758 296.223,-102.259 285.696,-103.454 288.739,-109.758\"/>\\n</g>\\n<!-- occupation&#45;&gt;workclass -->\\n<g id=\"edge7\" class=\"edge\"><title>occupation&#45;&gt;workclass</title>\\n<path fill=\"none\" stroke=\"black\" d=\"M224.993,-76.2955C279.745,-63.52 363.597,-43.9545 417.753,-31.318\"/>\\n<ellipse fill=\"none\" stroke=\"black\" cx=\"220.986\" cy=\"-77.2303\" rx=\"4.00001\" ry=\"4.00001\"/>\\n<ellipse fill=\"none\" stroke=\"black\" cx=\"421.956\" cy=\"-30.3376\" rx=\"4.00001\" ry=\"4.00001\"/>\\n</g>\\n<!-- age -->\\n<g id=\"node7\" class=\"node\"><title>age</title>\\n<ellipse fill=\"none\" stroke=\"black\" cx=\"843.545\" cy=\"-234\" rx=\"27.0966\" ry=\"18\"/>\\n<text text-anchor=\"middle\" x=\"843.545\" y=\"-230.3\" font-family=\"Times,serif\" font-size=\"14.00\">age</text>\\n</g>\\n<!-- age&#45;&gt;marital&#45;status -->\\n<g id=\"edge11\" class=\"edge\"><title>age&#45;&gt;marital&#45;status</title>\\n<path fill=\"none\" stroke=\"black\" d=\"M864.207,-209.957C877.904,-191.749 891.502,-165.853 880.545,-144 873.681,-130.31 861.416,-119.252 848.991,-110.849\"/>\\n<polygon fill=\"black\" stroke=\"black\" points=\"861.104,-208.233 857.583,-218.226 866.567,-212.609 861.104,-208.233\"/>\\n<ellipse fill=\"none\" stroke=\"black\" cx=\"845.476\" cy=\"-108.606\" rx=\"4.00002\" ry=\"4.00002\"/>\\n</g>\\n<!-- age&#45;&gt;hours&#45;per&#45;week -->\\n<g id=\"edge4\" class=\"edge\"><title>age&#45;&gt;hours&#45;per&#45;week</title>\\n<path fill=\"none\" stroke=\"black\" d=\"M825.273,-209.745C817.672,-200.07 809.006,-189.041 802.002,-180.127\"/>\\n<polygon fill=\"black\" stroke=\"black\" points=\"822.68,-212.11 831.611,-217.811 828.185,-207.785 822.68,-212.11\"/>\\n</g>\\n<!-- capital&#45;gain -->\\n<g id=\"node8\" class=\"node\"><title>capital&#45;gain</title>\\n<ellipse fill=\"none\" stroke=\"black\" cx=\"476.545\" cy=\"-162\" rx=\"65.7887\" ry=\"18\"/>\\n<text text-anchor=\"middle\" x=\"476.545\" y=\"-158.3\" font-family=\"Times,serif\" font-size=\"14.00\">capital&#45;gain</text>\\n</g>\\n<!-- income_&gt;50K -->\\n<g id=\"node9\" class=\"node\"><title>income_&gt;50K</title>\\n<ellipse fill=\"none\" stroke=\"black\" cx=\"602.545\" cy=\"-90\" rx=\"75.2868\" ry=\"18\"/>\\n<text text-anchor=\"middle\" x=\"602.545\" y=\"-86.3\" font-family=\"Times,serif\" font-size=\"14.00\">income_&gt;50K</text>\\n</g>\\n<!-- capital&#45;gain&#45;&gt;income_&gt;50K -->\\n<g id=\"edge5\" class=\"edge\"><title>capital&#45;gain&#45;&gt;income_&gt;50K</title>\\n<path fill=\"none\" stroke=\"black\" d=\"M511.246,-141.722C528.538,-132.115 549.421,-120.513 566.849,-110.831\"/>\\n<ellipse fill=\"none\" stroke=\"black\" cx=\"507.693\" cy=\"-143.696\" rx=\"4.00002\" ry=\"4.00002\"/>\\n<ellipse fill=\"none\" stroke=\"black\" cx=\"570.589\" cy=\"-108.754\" rx=\"4.00002\" ry=\"4.00002\"/>\\n</g>\\n<!-- capital&#45;gain&#45;&gt;race -->\\n<g id=\"edge14\" class=\"edge\"><title>capital&#45;gain&#45;&gt;race</title>\\n<path fill=\"none\" stroke=\"black\" d=\"M436.031,-142.936C410.213,-131.425 377.171,-116.693 352.877,-105.862\"/>\\n<ellipse fill=\"none\" stroke=\"black\" cx=\"439.979\" cy=\"-144.697\" rx=\"4.00002\" ry=\"4.00002\"/>\\n<polygon fill=\"black\" stroke=\"black\" points=\"354.261,-102.647 343.703,-101.771 351.411,-109.04 354.261,-102.647\"/>\\n</g>\\n<!-- income_&gt;50K&#45;&gt;relationship -->\\n<g id=\"edge8\" class=\"edge\"><title>income_&gt;50K&#45;&gt;relationship</title>\\n<path fill=\"none\" stroke=\"black\" d=\"M606.168,-63.6398C607.067,-57.348 608.03,-50.6053 608.928,-44.3156\"/>\\n<ellipse fill=\"none\" stroke=\"black\" cx=\"605.583\" cy=\"-67.7368\" rx=\"4.00001\" ry=\"4.00001\"/>\\n<ellipse fill=\"none\" stroke=\"black\" cx=\"609.536\" cy=\"-40.0641\" rx=\"4.00001\" ry=\"4.00001\"/>\\n</g>\\n<!-- capital&#45;loss -->\\n<g id=\"node10\" class=\"node\"><title>capital&#45;loss</title>\\n<ellipse fill=\"none\" stroke=\"black\" cx=\"623.545\" cy=\"-162\" rx=\"63.8893\" ry=\"18\"/>\\n<text text-anchor=\"middle\" x=\"623.545\" y=\"-158.3\" font-family=\"Times,serif\" font-size=\"14.00\">capital&#45;loss</text>\\n</g>\\n<!-- capital&#45;loss&#45;&gt;workclass -->\\n<g id=\"edge6\" class=\"edge\"><title>capital&#45;loss&#45;&gt;workclass</title>\\n<path fill=\"none\" stroke=\"black\" d=\"M574.837,-143.828C555.617,-135.279 534.391,-123.421 518.545,-108 499.968,-89.9213 486.853,-63.0892 479.078,-43.6157\"/>\\n<polygon fill=\"black\" stroke=\"black\" points=\"573.507,-147.066 584.079,-147.761 576.248,-140.625 573.507,-147.066\"/>\\n<ellipse fill=\"none\" stroke=\"black\" cx=\"477.601\" cy=\"-39.7627\" rx=\"4.00001\" ry=\"4.00001\"/>\\n</g>\\n<!-- capital&#45;loss&#45;&gt;income_&gt;50K -->\\n<g id=\"edge9\" class=\"edge\"><title>capital&#45;loss&#45;&gt;income_&gt;50K</title>\\n<path fill=\"none\" stroke=\"black\" d=\"M615.532,-134.29C613.733,-128.293 611.83,-121.951 610.053,-116.026\"/>\\n<polygon fill=\"black\" stroke=\"black\" points=\"612.236,-135.482 618.461,-144.055 618.94,-133.471 612.236,-135.482\"/>\\n<ellipse fill=\"none\" stroke=\"black\" cx=\"608.877\" cy=\"-112.107\" rx=\"4.00001\" ry=\"4.00001\"/>\\n</g>\\n<!-- native&#45;country -->\\n<g id=\"node11\" class=\"node\"><title>native&#45;country</title>\\n<ellipse fill=\"none\" stroke=\"black\" cx=\"314.545\" cy=\"-162\" rx=\"78.7863\" ry=\"18\"/>\\n<text text-anchor=\"middle\" x=\"314.545\" y=\"-158.3\" font-family=\"Times,serif\" font-size=\"14.00\">native&#45;country</text>\\n</g>\\n<!-- native&#45;country&#45;&gt;race -->\\n<g id=\"edge12\" class=\"edge\"><title>native&#45;country&#45;&gt;race</title>\\n<path fill=\"none\" stroke=\"black\" d=\"M316.497,-133.665C317.113,-125.054 317.774,-115.791 318.323,-108.104\"/>\\n<polygon fill=\"black\" stroke=\"black\" points=\"313.002,-133.473 315.781,-143.697 319.985,-133.971 313.002,-133.473\"/>\\n</g>\\n<!-- education -->\\n<g id=\"node13\" class=\"node\"><title>education</title>\\n<ellipse fill=\"none\" stroke=\"black\" cx=\"56.545\" cy=\"-162\" rx=\"56.59\" ry=\"18\"/>\\n<text text-anchor=\"middle\" x=\"56.545\" y=\"-158.3\" font-family=\"Times,serif\" font-size=\"14.00\">education</text>\\n</g>\\n<!-- education&#45;&gt;occupation -->\\n<g id=\"edge15\" class=\"edge\"><title>education&#45;&gt;occupation</title>\\n<path fill=\"none\" stroke=\"black\" d=\"M88.1788,-141.576C103.732,-132.026 122.451,-120.532 138.11,-110.916\"/>\\n<ellipse fill=\"none\" stroke=\"black\" cx=\"84.69\" cy=\"-143.718\" rx=\"4.00002\" ry=\"4.00002\"/>\\n<ellipse fill=\"none\" stroke=\"black\" cx=\"141.659\" cy=\"-108.737\" rx=\"4.00002\" ry=\"4.00002\"/>\\n</g>\\n</g>\\n</svg>\\n'</div>"
      ],
      "text/plain": [
       "<IPython.core.display.HTML object>"
      ]
     },
     "execution_count": 51,
     "metadata": {},
     "output_type": "execute_result"
    }
   ],
   "source": [
    "from IPython.display import HTML\n",
    "\n",
    "# Your code to generate the SVG and store it in svg_str\n",
    "\n",
    "# Define the desired width and height for the SVG\n",
    "width = 400  # Change to your desired width\n",
    "height = 300  # Change to your desired height\n",
    "\n",
    "# Create an HTML string with CSS to set the width and height\n",
    "html_str = '<div style=\"width:{}px; height:{}px\">{}</div>'.format(width, height, svg_str)\n",
    "\n",
    "# Display the HTML string in the notebook\n",
    "HTML(html_str)"
   ]
  },
  {
   "cell_type": "code",
   "execution_count": 52,
   "metadata": {},
   "outputs": [],
   "source": [
    "javabridge.detach()\n",
    "javabridge.kill_vm()"
   ]
  },
  {
   "cell_type": "code",
   "execution_count": null,
   "metadata": {},
   "outputs": [],
   "source": []
  },
  {
   "cell_type": "code",
   "execution_count": null,
   "metadata": {},
   "outputs": [],
   "source": []
  },
  {
   "cell_type": "code",
   "execution_count": null,
   "metadata": {},
   "outputs": [],
   "source": []
  }
 ],
 "metadata": {
  "kernelspec": {
   "display_name": "Python 3",
   "language": "python",
   "name": "python3"
  },
  "language_info": {
   "codemirror_mode": {
    "name": "ipython",
    "version": 3
   },
   "file_extension": ".py",
   "mimetype": "text/x-python",
   "name": "python",
   "nbconvert_exporter": "python",
   "pygments_lexer": "ipython3",
   "version": "3.5.4"
  },
  "widgets": {
   "state": {},
   "version": "1.1.1"
  }
 },
 "nbformat": 4,
 "nbformat_minor": 1
}
